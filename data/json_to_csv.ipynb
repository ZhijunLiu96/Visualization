{
  "nbformat": 4,
  "nbformat_minor": 0,
  "metadata": {
    "colab": {
      "name": "json_to_csv.ipynb",
      "provenance": [],
      "collapsed_sections": []
    },
    "kernelspec": {
      "name": "python3",
      "display_name": "Python 3"
    }
  },
  "cells": [
    {
      "cell_type": "code",
      "metadata": {
        "id": "jyjLHB5rndQa",
        "colab_type": "code",
        "outputId": "cfc37be0-f0ea-48f1-a79e-2280db1fcf94",
        "colab": {
          "base_uri": "https://localhost:8080/",
          "height": 32
        }
      },
      "source": [
        "import pandas as pd\n",
        "from collections import defaultdict\n",
        "from google.colab import drive\n",
        "drive.mount('/content/drive')"
      ],
      "execution_count": 1,
      "outputs": [
        {
          "output_type": "stream",
          "text": [
            "Drive already mounted at /content/drive; to attempt to forcibly remount, call drive.mount(\"/content/drive\", force_remount=True).\n"
          ],
          "name": "stdout"
        }
      ]
    },
    {
      "cell_type": "code",
      "metadata": {
        "id": "6cbkrBGcnirp",
        "colab_type": "code",
        "outputId": "75f306ad-c4a0-4d3a-c8d1-217b0bce468e",
        "colab": {
          "base_uri": "https://localhost:8080/",
          "height": 32
        }
      },
      "source": [
        "cd 'drive/My Drive/visual'"
      ],
      "execution_count": 2,
      "outputs": [
        {
          "output_type": "stream",
          "text": [
            "/content/drive/My Drive/visual\n"
          ],
          "name": "stdout"
        }
      ]
    },
    {
      "cell_type": "code",
      "metadata": {
        "id": "_CQ0XQWnnq4r",
        "colab_type": "code",
        "colab": {}
      },
      "source": [
        "import json\n",
        "with open('api.json') as f:\n",
        "  data = json.load(f)"
      ],
      "execution_count": 0,
      "outputs": []
    },
    {
      "cell_type": "code",
      "metadata": {
        "id": "WzUIBJHUpNmg",
        "colab_type": "code",
        "colab": {}
      },
      "source": [
        "row, date,column, variable = [], [], [], ['CloseContact', 'Confirmed', 'Critical', 'Cured', 'Dead', 'Obse', 'Severe', 'UnObse']\n",
        "for i in range(34):\n",
        "    row.append(data['province'][0]['ProvinceDetail'][i]['Province'])\n",
        "for i in range(len(data['province'])):\n",
        "    date.append(data['province'][i]['Time'])\n",
        "for d in date:\n",
        "    for v in variable:\n",
        "        column.append(d+'_'+v)\n",
        "result = pd.DataFrame(0, index=row, columns=column)"
      ],
      "execution_count": 0,
      "outputs": []
    },
    {
      "cell_type": "code",
      "metadata": {
        "id": "xRj640wpyb5j",
        "colab_type": "code",
        "colab": {}
      },
      "source": [
        "dictionary = {'内蒙古自治区': '内蒙古', '台湾': '台湾省', '宁夏回族自治区': '宁夏', '广西壮族自治区': '广西', '广西省': '广西', '西藏自治区': '西藏'}\n",
        "for i in range(len(data['province'])): ## loop date\n",
        "    time = data['province'][i]['Time']\n",
        "    for j in range(len(data['province'][i]['ProvinceDetail'])): ## loop province\n",
        "        prov = data['province'][i]['ProvinceDetail'][j]['Province']\n",
        "        try:\n",
        "            prov = dictionary[prov]\n",
        "        except: pass\n",
        "        for k in variable:\n",
        "            name = time+'_'+k\n",
        "            val = data['province'][i]['ProvinceDetail'][j][k]\n",
        "            result.loc[prov,name] = val"
      ],
      "execution_count": 0,
      "outputs": []
    },
    {
      "cell_type": "code",
      "metadata": {
        "id": "MTH9_GGqf2nq",
        "colab_type": "code",
        "colab": {}
      },
      "source": [
        "result.to_csv('data.csv')"
      ],
      "execution_count": 0,
      "outputs": []
    },
    {
      "cell_type": "code",
      "metadata": {
        "id": "yjoTw9OOnH79",
        "colab_type": "code",
        "colab": {
          "base_uri": "https://localhost:8080/",
          "height": 32
        },
        "outputId": "d64c45a2-0075-4775-f2e0-fecf1c702096"
      },
      "source": [
        "sum(result['2020-02-08_Confirmed'])"
      ],
      "execution_count": 7,
      "outputs": [
        {
          "output_type": "execute_result",
          "data": {
            "text/plain": [
              "37247"
            ]
          },
          "metadata": {
            "tags": []
          },
          "execution_count": 7
        }
      ]
    }
  ]
}