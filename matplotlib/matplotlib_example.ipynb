{
  "nbformat": 4,
  "nbformat_minor": 0,
  "metadata": {
    "colab": {
      "name": "leading change.ipynb",
      "provenance": []
    },
    "kernelspec": {
      "name": "python3",
      "display_name": "Python 3"
    }
  },
  "cells": [
    {
      "cell_type": "code",
      "metadata": {
        "id": "6t9g8mwv4Pyb",
        "colab_type": "code",
        "outputId": "21d6b99f-2e8d-4f96-ae41-a8292e27e440",
        "colab": {
          "base_uri": "https://localhost:8080/",
          "height": 162
        }
      },
      "source": [
        "import os\n",
        "from google.colab import drive\n",
        "drive.mount('/content/drive')\n",
        "directory='/content/drive/My Drive'\n",
        "os.chdir(directory)"
      ],
      "execution_count": 0,
      "outputs": [
        {
          "output_type": "stream",
          "text": [
            "Go to this URL in a browser: https://accounts.google.com/o/oauth2/auth?client_id=947318989803-6bn6qk8qdgf4n4g3pfee6491hc0brc4i.apps.googleusercontent.com&redirect_uri=urn%3aietf%3awg%3aoauth%3a2.0%3aoob&response_type=code&scope=email%20https%3a%2f%2fwww.googleapis.com%2fauth%2fdocs.test%20https%3a%2f%2fwww.googleapis.com%2fauth%2fdrive%20https%3a%2f%2fwww.googleapis.com%2fauth%2fdrive.photos.readonly%20https%3a%2f%2fwww.googleapis.com%2fauth%2fpeopleapi.readonly\n",
            "\n",
            "Enter your authorization code:\n",
            "··········\n",
            "Mounted at /content/drive\n"
          ],
          "name": "stdout"
        }
      ]
    },
    {
      "cell_type": "code",
      "metadata": {
        "id": "saRCJLqF5YSc",
        "colab_type": "code",
        "colab": {}
      },
      "source": [
        "import pandas as pd\n",
        "dfs = pd.read_excel('leading.xlsx', sheet_name='Data')"
      ],
      "execution_count": 0,
      "outputs": []
    },
    {
      "cell_type": "code",
      "metadata": {
        "id": "nM0-HQSL-9-Y",
        "colab_type": "code",
        "outputId": "77300469-5676-4b0a-e50d-a5bd2d38044b",
        "colab": {
          "base_uri": "https://localhost:8080/",
          "height": 757
        }
      },
      "source": [
        "dfs.info()"
      ],
      "execution_count": 0,
      "outputs": [
        {
          "output_type": "stream",
          "text": [
            "<class 'pandas.core.frame.DataFrame'>\n",
            "RangeIndex: 1470 entries, 0 to 1469\n",
            "Data columns (total 35 columns):\n",
            "Age                         1470 non-null int64\n",
            "Attrition                   1470 non-null object\n",
            "BusinessTravel              1470 non-null object\n",
            "DailyRate                   1470 non-null int64\n",
            "Department                  1470 non-null object\n",
            "DistanceFromHome            1470 non-null int64\n",
            "Education                   1470 non-null int64\n",
            "EducationField              1470 non-null object\n",
            "EmployeeCount               1470 non-null int64\n",
            "EmployeeNumber              1470 non-null int64\n",
            "EnvironmentSatisfaction     1470 non-null int64\n",
            "Gender                      1470 non-null object\n",
            "HourlyRate                  1470 non-null int64\n",
            "JobInvolvement              1470 non-null int64\n",
            "JobLevel                    1470 non-null int64\n",
            "JobRole                     1470 non-null object\n",
            "JobSatisfaction             1470 non-null int64\n",
            "MaritalStatus               1470 non-null object\n",
            "MonthlyIncome               1470 non-null int64\n",
            "MonthlyRate                 1470 non-null int64\n",
            "NumCompaniesWorked          1470 non-null int64\n",
            "Over18                      1470 non-null object\n",
            "OverTime                    1470 non-null object\n",
            "PercentSalaryHike           1470 non-null int64\n",
            "PerformanceRating           1470 non-null int64\n",
            "RelationshipSatisfaction    1470 non-null int64\n",
            "StandardHours               1470 non-null int64\n",
            "StockOptionLevel            1470 non-null int64\n",
            "TotalWorkingYears           1470 non-null int64\n",
            "TrainingTimesLastYear       1470 non-null int64\n",
            "WorkLifeBalance             1470 non-null int64\n",
            "YearsAtCompany              1470 non-null int64\n",
            "YearsInCurrentRole          1470 non-null int64\n",
            "YearsSinceLastPromotion     1470 non-null int64\n",
            "YearsWithCurrManager        1470 non-null int64\n",
            "dtypes: int64(26), object(9)\n",
            "memory usage: 402.1+ KB\n"
          ],
          "name": "stdout"
        }
      ]
    },
    {
      "cell_type": "code",
      "metadata": {
        "id": "2sJLg1cz6BZY",
        "colab_type": "code",
        "colab": {}
      },
      "source": [
        "df_rd = dfs[dfs['Department']=='Research & Development']"
      ],
      "execution_count": 0,
      "outputs": []
    },
    {
      "cell_type": "code",
      "metadata": {
        "id": "DBZUMgPjC5J1",
        "colab_type": "code",
        "outputId": "6ceeeedb-7b1b-401e-f70b-a37d51de3263",
        "colab": {
          "base_uri": "https://localhost:8080/",
          "height": 89
        }
      },
      "source": [
        "dfs['Department'].value_counts()"
      ],
      "execution_count": 0,
      "outputs": [
        {
          "output_type": "execute_result",
          "data": {
            "text/plain": [
              "Research & Development    961\n",
              "Sales                     446\n",
              "Human Resources            63\n",
              "Name: Department, dtype: int64"
            ]
          },
          "metadata": {
            "tags": []
          },
          "execution_count": 7
        }
      ]
    },
    {
      "cell_type": "code",
      "metadata": {
        "id": "Q1kUu7Os6Cs3",
        "colab_type": "code",
        "outputId": "e3c4bf43-166f-40aa-9c71-8895a42d133a",
        "colab": {
          "base_uri": "https://localhost:8080/",
          "height": 757
        }
      },
      "source": [
        "df_rd.info()"
      ],
      "execution_count": 0,
      "outputs": [
        {
          "output_type": "stream",
          "text": [
            "<class 'pandas.core.frame.DataFrame'>\n",
            "Int64Index: 961 entries, 1 to 1469\n",
            "Data columns (total 35 columns):\n",
            "Age                         961 non-null int64\n",
            "Attrition                   961 non-null object\n",
            "BusinessTravel              961 non-null object\n",
            "DailyRate                   961 non-null int64\n",
            "Department                  961 non-null object\n",
            "DistanceFromHome            961 non-null int64\n",
            "Education                   961 non-null int64\n",
            "EducationField              961 non-null object\n",
            "EmployeeCount               961 non-null int64\n",
            "EmployeeNumber              961 non-null int64\n",
            "EnvironmentSatisfaction     961 non-null int64\n",
            "Gender                      961 non-null object\n",
            "HourlyRate                  961 non-null int64\n",
            "JobInvolvement              961 non-null int64\n",
            "JobLevel                    961 non-null int64\n",
            "JobRole                     961 non-null object\n",
            "JobSatisfaction             961 non-null int64\n",
            "MaritalStatus               961 non-null object\n",
            "MonthlyIncome               961 non-null int64\n",
            "MonthlyRate                 961 non-null int64\n",
            "NumCompaniesWorked          961 non-null int64\n",
            "Over18                      961 non-null object\n",
            "OverTime                    961 non-null object\n",
            "PercentSalaryHike           961 non-null int64\n",
            "PerformanceRating           961 non-null int64\n",
            "RelationshipSatisfaction    961 non-null int64\n",
            "StandardHours               961 non-null int64\n",
            "StockOptionLevel            961 non-null int64\n",
            "TotalWorkingYears           961 non-null int64\n",
            "TrainingTimesLastYear       961 non-null int64\n",
            "WorkLifeBalance             961 non-null int64\n",
            "YearsAtCompany              961 non-null int64\n",
            "YearsInCurrentRole          961 non-null int64\n",
            "YearsSinceLastPromotion     961 non-null int64\n",
            "YearsWithCurrManager        961 non-null int64\n",
            "dtypes: int64(26), object(9)\n",
            "memory usage: 270.3+ KB\n"
          ],
          "name": "stdout"
        }
      ]
    },
    {
      "cell_type": "code",
      "metadata": {
        "id": "H39sNF4qDhft",
        "colab_type": "code",
        "outputId": "cf3806fc-6bcd-4da9-82e0-6f36ce6e7efb",
        "colab": {
          "base_uri": "https://localhost:8080/",
          "height": 609
        }
      },
      "source": [
        "df_rd"
      ],
      "execution_count": 0,
      "outputs": [
        {
          "output_type": "execute_result",
          "data": {
            "text/html": [
              "<div>\n",
              "<style scoped>\n",
              "    .dataframe tbody tr th:only-of-type {\n",
              "        vertical-align: middle;\n",
              "    }\n",
              "\n",
              "    .dataframe tbody tr th {\n",
              "        vertical-align: top;\n",
              "    }\n",
              "\n",
              "    .dataframe thead th {\n",
              "        text-align: right;\n",
              "    }\n",
              "</style>\n",
              "<table border=\"1\" class=\"dataframe\">\n",
              "  <thead>\n",
              "    <tr style=\"text-align: right;\">\n",
              "      <th></th>\n",
              "      <th>Age</th>\n",
              "      <th>Attrition</th>\n",
              "      <th>BusinessTravel</th>\n",
              "      <th>DailyRate</th>\n",
              "      <th>Department</th>\n",
              "      <th>DistanceFromHome</th>\n",
              "      <th>Education</th>\n",
              "      <th>EducationField</th>\n",
              "      <th>EmployeeCount</th>\n",
              "      <th>EmployeeNumber</th>\n",
              "      <th>EnvironmentSatisfaction</th>\n",
              "      <th>Gender</th>\n",
              "      <th>HourlyRate</th>\n",
              "      <th>JobInvolvement</th>\n",
              "      <th>JobLevel</th>\n",
              "      <th>JobRole</th>\n",
              "      <th>JobSatisfaction</th>\n",
              "      <th>MaritalStatus</th>\n",
              "      <th>MonthlyIncome</th>\n",
              "      <th>MonthlyRate</th>\n",
              "      <th>NumCompaniesWorked</th>\n",
              "      <th>Over18</th>\n",
              "      <th>OverTime</th>\n",
              "      <th>PercentSalaryHike</th>\n",
              "      <th>PerformanceRating</th>\n",
              "      <th>RelationshipSatisfaction</th>\n",
              "      <th>StandardHours</th>\n",
              "      <th>StockOptionLevel</th>\n",
              "      <th>TotalWorkingYears</th>\n",
              "      <th>TrainingTimesLastYear</th>\n",
              "      <th>WorkLifeBalance</th>\n",
              "      <th>YearsAtCompany</th>\n",
              "      <th>YearsInCurrentRole</th>\n",
              "      <th>YearsSinceLastPromotion</th>\n",
              "      <th>YearsWithCurrManager</th>\n",
              "    </tr>\n",
              "  </thead>\n",
              "  <tbody>\n",
              "    <tr>\n",
              "      <th>1</th>\n",
              "      <td>49</td>\n",
              "      <td>No</td>\n",
              "      <td>Travel_Frequently</td>\n",
              "      <td>279</td>\n",
              "      <td>Research &amp; Development</td>\n",
              "      <td>8</td>\n",
              "      <td>1</td>\n",
              "      <td>Life Sciences</td>\n",
              "      <td>1</td>\n",
              "      <td>2</td>\n",
              "      <td>3</td>\n",
              "      <td>Male</td>\n",
              "      <td>61</td>\n",
              "      <td>2</td>\n",
              "      <td>2</td>\n",
              "      <td>Research Scientist</td>\n",
              "      <td>2</td>\n",
              "      <td>Married</td>\n",
              "      <td>5130</td>\n",
              "      <td>24907</td>\n",
              "      <td>1</td>\n",
              "      <td>Y</td>\n",
              "      <td>No</td>\n",
              "      <td>23</td>\n",
              "      <td>4</td>\n",
              "      <td>4</td>\n",
              "      <td>80</td>\n",
              "      <td>1</td>\n",
              "      <td>10</td>\n",
              "      <td>3</td>\n",
              "      <td>3</td>\n",
              "      <td>10</td>\n",
              "      <td>7</td>\n",
              "      <td>1</td>\n",
              "      <td>7</td>\n",
              "    </tr>\n",
              "    <tr>\n",
              "      <th>2</th>\n",
              "      <td>37</td>\n",
              "      <td>Yes</td>\n",
              "      <td>Travel_Rarely</td>\n",
              "      <td>1373</td>\n",
              "      <td>Research &amp; Development</td>\n",
              "      <td>2</td>\n",
              "      <td>2</td>\n",
              "      <td>Other</td>\n",
              "      <td>1</td>\n",
              "      <td>4</td>\n",
              "      <td>4</td>\n",
              "      <td>Male</td>\n",
              "      <td>92</td>\n",
              "      <td>2</td>\n",
              "      <td>1</td>\n",
              "      <td>Laboratory Technician</td>\n",
              "      <td>3</td>\n",
              "      <td>Single</td>\n",
              "      <td>2090</td>\n",
              "      <td>2396</td>\n",
              "      <td>6</td>\n",
              "      <td>Y</td>\n",
              "      <td>Yes</td>\n",
              "      <td>15</td>\n",
              "      <td>3</td>\n",
              "      <td>2</td>\n",
              "      <td>80</td>\n",
              "      <td>0</td>\n",
              "      <td>7</td>\n",
              "      <td>3</td>\n",
              "      <td>3</td>\n",
              "      <td>0</td>\n",
              "      <td>0</td>\n",
              "      <td>0</td>\n",
              "      <td>0</td>\n",
              "    </tr>\n",
              "    <tr>\n",
              "      <th>3</th>\n",
              "      <td>33</td>\n",
              "      <td>No</td>\n",
              "      <td>Travel_Frequently</td>\n",
              "      <td>1392</td>\n",
              "      <td>Research &amp; Development</td>\n",
              "      <td>3</td>\n",
              "      <td>4</td>\n",
              "      <td>Life Sciences</td>\n",
              "      <td>1</td>\n",
              "      <td>5</td>\n",
              "      <td>4</td>\n",
              "      <td>Female</td>\n",
              "      <td>56</td>\n",
              "      <td>3</td>\n",
              "      <td>1</td>\n",
              "      <td>Research Scientist</td>\n",
              "      <td>3</td>\n",
              "      <td>Married</td>\n",
              "      <td>2909</td>\n",
              "      <td>23159</td>\n",
              "      <td>1</td>\n",
              "      <td>Y</td>\n",
              "      <td>Yes</td>\n",
              "      <td>11</td>\n",
              "      <td>3</td>\n",
              "      <td>3</td>\n",
              "      <td>80</td>\n",
              "      <td>0</td>\n",
              "      <td>8</td>\n",
              "      <td>3</td>\n",
              "      <td>3</td>\n",
              "      <td>8</td>\n",
              "      <td>7</td>\n",
              "      <td>3</td>\n",
              "      <td>0</td>\n",
              "    </tr>\n",
              "    <tr>\n",
              "      <th>4</th>\n",
              "      <td>27</td>\n",
              "      <td>No</td>\n",
              "      <td>Travel_Rarely</td>\n",
              "      <td>591</td>\n",
              "      <td>Research &amp; Development</td>\n",
              "      <td>2</td>\n",
              "      <td>1</td>\n",
              "      <td>Medical</td>\n",
              "      <td>1</td>\n",
              "      <td>7</td>\n",
              "      <td>1</td>\n",
              "      <td>Male</td>\n",
              "      <td>40</td>\n",
              "      <td>3</td>\n",
              "      <td>1</td>\n",
              "      <td>Laboratory Technician</td>\n",
              "      <td>2</td>\n",
              "      <td>Married</td>\n",
              "      <td>3468</td>\n",
              "      <td>16632</td>\n",
              "      <td>9</td>\n",
              "      <td>Y</td>\n",
              "      <td>No</td>\n",
              "      <td>12</td>\n",
              "      <td>3</td>\n",
              "      <td>4</td>\n",
              "      <td>80</td>\n",
              "      <td>1</td>\n",
              "      <td>6</td>\n",
              "      <td>3</td>\n",
              "      <td>3</td>\n",
              "      <td>2</td>\n",
              "      <td>2</td>\n",
              "      <td>2</td>\n",
              "      <td>2</td>\n",
              "    </tr>\n",
              "    <tr>\n",
              "      <th>5</th>\n",
              "      <td>32</td>\n",
              "      <td>No</td>\n",
              "      <td>Travel_Frequently</td>\n",
              "      <td>1005</td>\n",
              "      <td>Research &amp; Development</td>\n",
              "      <td>2</td>\n",
              "      <td>2</td>\n",
              "      <td>Life Sciences</td>\n",
              "      <td>1</td>\n",
              "      <td>8</td>\n",
              "      <td>4</td>\n",
              "      <td>Male</td>\n",
              "      <td>79</td>\n",
              "      <td>3</td>\n",
              "      <td>1</td>\n",
              "      <td>Laboratory Technician</td>\n",
              "      <td>4</td>\n",
              "      <td>Single</td>\n",
              "      <td>3068</td>\n",
              "      <td>11864</td>\n",
              "      <td>0</td>\n",
              "      <td>Y</td>\n",
              "      <td>No</td>\n",
              "      <td>13</td>\n",
              "      <td>3</td>\n",
              "      <td>3</td>\n",
              "      <td>80</td>\n",
              "      <td>0</td>\n",
              "      <td>8</td>\n",
              "      <td>2</td>\n",
              "      <td>2</td>\n",
              "      <td>7</td>\n",
              "      <td>7</td>\n",
              "      <td>3</td>\n",
              "      <td>6</td>\n",
              "    </tr>\n",
              "    <tr>\n",
              "      <th>...</th>\n",
              "      <td>...</td>\n",
              "      <td>...</td>\n",
              "      <td>...</td>\n",
              "      <td>...</td>\n",
              "      <td>...</td>\n",
              "      <td>...</td>\n",
              "      <td>...</td>\n",
              "      <td>...</td>\n",
              "      <td>...</td>\n",
              "      <td>...</td>\n",
              "      <td>...</td>\n",
              "      <td>...</td>\n",
              "      <td>...</td>\n",
              "      <td>...</td>\n",
              "      <td>...</td>\n",
              "      <td>...</td>\n",
              "      <td>...</td>\n",
              "      <td>...</td>\n",
              "      <td>...</td>\n",
              "      <td>...</td>\n",
              "      <td>...</td>\n",
              "      <td>...</td>\n",
              "      <td>...</td>\n",
              "      <td>...</td>\n",
              "      <td>...</td>\n",
              "      <td>...</td>\n",
              "      <td>...</td>\n",
              "      <td>...</td>\n",
              "      <td>...</td>\n",
              "      <td>...</td>\n",
              "      <td>...</td>\n",
              "      <td>...</td>\n",
              "      <td>...</td>\n",
              "      <td>...</td>\n",
              "      <td>...</td>\n",
              "    </tr>\n",
              "    <tr>\n",
              "      <th>1463</th>\n",
              "      <td>31</td>\n",
              "      <td>No</td>\n",
              "      <td>Non-Travel</td>\n",
              "      <td>325</td>\n",
              "      <td>Research &amp; Development</td>\n",
              "      <td>5</td>\n",
              "      <td>3</td>\n",
              "      <td>Medical</td>\n",
              "      <td>1</td>\n",
              "      <td>2057</td>\n",
              "      <td>2</td>\n",
              "      <td>Male</td>\n",
              "      <td>74</td>\n",
              "      <td>3</td>\n",
              "      <td>2</td>\n",
              "      <td>Manufacturing Director</td>\n",
              "      <td>1</td>\n",
              "      <td>Single</td>\n",
              "      <td>9936</td>\n",
              "      <td>3787</td>\n",
              "      <td>0</td>\n",
              "      <td>Y</td>\n",
              "      <td>No</td>\n",
              "      <td>19</td>\n",
              "      <td>3</td>\n",
              "      <td>2</td>\n",
              "      <td>80</td>\n",
              "      <td>0</td>\n",
              "      <td>10</td>\n",
              "      <td>2</td>\n",
              "      <td>3</td>\n",
              "      <td>9</td>\n",
              "      <td>4</td>\n",
              "      <td>1</td>\n",
              "      <td>7</td>\n",
              "    </tr>\n",
              "    <tr>\n",
              "      <th>1465</th>\n",
              "      <td>36</td>\n",
              "      <td>No</td>\n",
              "      <td>Travel_Frequently</td>\n",
              "      <td>884</td>\n",
              "      <td>Research &amp; Development</td>\n",
              "      <td>23</td>\n",
              "      <td>2</td>\n",
              "      <td>Medical</td>\n",
              "      <td>1</td>\n",
              "      <td>2061</td>\n",
              "      <td>3</td>\n",
              "      <td>Male</td>\n",
              "      <td>41</td>\n",
              "      <td>4</td>\n",
              "      <td>2</td>\n",
              "      <td>Laboratory Technician</td>\n",
              "      <td>4</td>\n",
              "      <td>Married</td>\n",
              "      <td>2571</td>\n",
              "      <td>12290</td>\n",
              "      <td>4</td>\n",
              "      <td>Y</td>\n",
              "      <td>No</td>\n",
              "      <td>17</td>\n",
              "      <td>3</td>\n",
              "      <td>3</td>\n",
              "      <td>80</td>\n",
              "      <td>1</td>\n",
              "      <td>17</td>\n",
              "      <td>3</td>\n",
              "      <td>3</td>\n",
              "      <td>5</td>\n",
              "      <td>2</td>\n",
              "      <td>0</td>\n",
              "      <td>3</td>\n",
              "    </tr>\n",
              "    <tr>\n",
              "      <th>1466</th>\n",
              "      <td>39</td>\n",
              "      <td>No</td>\n",
              "      <td>Travel_Rarely</td>\n",
              "      <td>613</td>\n",
              "      <td>Research &amp; Development</td>\n",
              "      <td>6</td>\n",
              "      <td>1</td>\n",
              "      <td>Medical</td>\n",
              "      <td>1</td>\n",
              "      <td>2062</td>\n",
              "      <td>4</td>\n",
              "      <td>Male</td>\n",
              "      <td>42</td>\n",
              "      <td>2</td>\n",
              "      <td>3</td>\n",
              "      <td>Healthcare Representative</td>\n",
              "      <td>1</td>\n",
              "      <td>Married</td>\n",
              "      <td>9991</td>\n",
              "      <td>21457</td>\n",
              "      <td>4</td>\n",
              "      <td>Y</td>\n",
              "      <td>No</td>\n",
              "      <td>15</td>\n",
              "      <td>3</td>\n",
              "      <td>1</td>\n",
              "      <td>80</td>\n",
              "      <td>1</td>\n",
              "      <td>9</td>\n",
              "      <td>5</td>\n",
              "      <td>3</td>\n",
              "      <td>7</td>\n",
              "      <td>7</td>\n",
              "      <td>1</td>\n",
              "      <td>7</td>\n",
              "    </tr>\n",
              "    <tr>\n",
              "      <th>1467</th>\n",
              "      <td>27</td>\n",
              "      <td>No</td>\n",
              "      <td>Travel_Rarely</td>\n",
              "      <td>155</td>\n",
              "      <td>Research &amp; Development</td>\n",
              "      <td>4</td>\n",
              "      <td>3</td>\n",
              "      <td>Life Sciences</td>\n",
              "      <td>1</td>\n",
              "      <td>2064</td>\n",
              "      <td>2</td>\n",
              "      <td>Male</td>\n",
              "      <td>87</td>\n",
              "      <td>4</td>\n",
              "      <td>2</td>\n",
              "      <td>Manufacturing Director</td>\n",
              "      <td>2</td>\n",
              "      <td>Married</td>\n",
              "      <td>6142</td>\n",
              "      <td>5174</td>\n",
              "      <td>1</td>\n",
              "      <td>Y</td>\n",
              "      <td>Yes</td>\n",
              "      <td>20</td>\n",
              "      <td>4</td>\n",
              "      <td>2</td>\n",
              "      <td>80</td>\n",
              "      <td>1</td>\n",
              "      <td>6</td>\n",
              "      <td>0</td>\n",
              "      <td>3</td>\n",
              "      <td>6</td>\n",
              "      <td>2</td>\n",
              "      <td>0</td>\n",
              "      <td>3</td>\n",
              "    </tr>\n",
              "    <tr>\n",
              "      <th>1469</th>\n",
              "      <td>34</td>\n",
              "      <td>No</td>\n",
              "      <td>Travel_Rarely</td>\n",
              "      <td>628</td>\n",
              "      <td>Research &amp; Development</td>\n",
              "      <td>8</td>\n",
              "      <td>3</td>\n",
              "      <td>Medical</td>\n",
              "      <td>1</td>\n",
              "      <td>2068</td>\n",
              "      <td>2</td>\n",
              "      <td>Male</td>\n",
              "      <td>82</td>\n",
              "      <td>4</td>\n",
              "      <td>2</td>\n",
              "      <td>Laboratory Technician</td>\n",
              "      <td>3</td>\n",
              "      <td>Married</td>\n",
              "      <td>4404</td>\n",
              "      <td>10228</td>\n",
              "      <td>2</td>\n",
              "      <td>Y</td>\n",
              "      <td>No</td>\n",
              "      <td>12</td>\n",
              "      <td>3</td>\n",
              "      <td>1</td>\n",
              "      <td>80</td>\n",
              "      <td>0</td>\n",
              "      <td>6</td>\n",
              "      <td>3</td>\n",
              "      <td>4</td>\n",
              "      <td>4</td>\n",
              "      <td>3</td>\n",
              "      <td>1</td>\n",
              "      <td>2</td>\n",
              "    </tr>\n",
              "  </tbody>\n",
              "</table>\n",
              "<p>961 rows × 35 columns</p>\n",
              "</div>"
            ],
            "text/plain": [
              "      Age Attrition  ... YearsSinceLastPromotion  YearsWithCurrManager\n",
              "1      49        No  ...                       1                     7\n",
              "2      37       Yes  ...                       0                     0\n",
              "3      33        No  ...                       3                     0\n",
              "4      27        No  ...                       2                     2\n",
              "5      32        No  ...                       3                     6\n",
              "...   ...       ...  ...                     ...                   ...\n",
              "1463   31        No  ...                       1                     7\n",
              "1465   36        No  ...                       0                     3\n",
              "1466   39        No  ...                       1                     7\n",
              "1467   27        No  ...                       0                     3\n",
              "1469   34        No  ...                       1                     2\n",
              "\n",
              "[961 rows x 35 columns]"
            ]
          },
          "metadata": {
            "tags": []
          },
          "execution_count": 9
        }
      ]
    },
    {
      "cell_type": "code",
      "metadata": {
        "id": "-BcEQ2tk7CQA",
        "colab_type": "code",
        "outputId": "0cf1c506-5b81-4fb1-cdeb-a110386a0281",
        "colab": {
          "base_uri": "https://localhost:8080/",
          "height": 337
        }
      },
      "source": [
        "df_rd.describe()"
      ],
      "execution_count": 0,
      "outputs": [
        {
          "output_type": "execute_result",
          "data": {
            "text/html": [
              "<div>\n",
              "<style scoped>\n",
              "    .dataframe tbody tr th:only-of-type {\n",
              "        vertical-align: middle;\n",
              "    }\n",
              "\n",
              "    .dataframe tbody tr th {\n",
              "        vertical-align: top;\n",
              "    }\n",
              "\n",
              "    .dataframe thead th {\n",
              "        text-align: right;\n",
              "    }\n",
              "</style>\n",
              "<table border=\"1\" class=\"dataframe\">\n",
              "  <thead>\n",
              "    <tr style=\"text-align: right;\">\n",
              "      <th></th>\n",
              "      <th>Age</th>\n",
              "      <th>DailyRate</th>\n",
              "      <th>DistanceFromHome</th>\n",
              "      <th>Education</th>\n",
              "      <th>EmployeeCount</th>\n",
              "      <th>EmployeeNumber</th>\n",
              "      <th>EnvironmentSatisfaction</th>\n",
              "      <th>HourlyRate</th>\n",
              "      <th>JobInvolvement</th>\n",
              "      <th>JobLevel</th>\n",
              "      <th>JobSatisfaction</th>\n",
              "      <th>MonthlyIncome</th>\n",
              "      <th>MonthlyRate</th>\n",
              "      <th>NumCompaniesWorked</th>\n",
              "      <th>PercentSalaryHike</th>\n",
              "      <th>PerformanceRating</th>\n",
              "      <th>RelationshipSatisfaction</th>\n",
              "      <th>StandardHours</th>\n",
              "      <th>StockOptionLevel</th>\n",
              "      <th>TotalWorkingYears</th>\n",
              "      <th>TrainingTimesLastYear</th>\n",
              "      <th>WorkLifeBalance</th>\n",
              "      <th>YearsAtCompany</th>\n",
              "      <th>YearsInCurrentRole</th>\n",
              "      <th>YearsSinceLastPromotion</th>\n",
              "      <th>YearsWithCurrManager</th>\n",
              "    </tr>\n",
              "  </thead>\n",
              "  <tbody>\n",
              "    <tr>\n",
              "      <th>count</th>\n",
              "      <td>961.000000</td>\n",
              "      <td>961.000000</td>\n",
              "      <td>961.000000</td>\n",
              "      <td>961.000000</td>\n",
              "      <td>961.0</td>\n",
              "      <td>961.000000</td>\n",
              "      <td>961.000000</td>\n",
              "      <td>961.000000</td>\n",
              "      <td>961.000000</td>\n",
              "      <td>961.000000</td>\n",
              "      <td>961.000000</td>\n",
              "      <td>961.000000</td>\n",
              "      <td>961.000000</td>\n",
              "      <td>961.000000</td>\n",
              "      <td>961.000000</td>\n",
              "      <td>961.000000</td>\n",
              "      <td>961.000000</td>\n",
              "      <td>961.0</td>\n",
              "      <td>961.000000</td>\n",
              "      <td>961.000000</td>\n",
              "      <td>961.000000</td>\n",
              "      <td>961.000000</td>\n",
              "      <td>961.000000</td>\n",
              "      <td>961.000000</td>\n",
              "      <td>961.000000</td>\n",
              "      <td>961.000000</td>\n",
              "    </tr>\n",
              "    <tr>\n",
              "      <th>mean</th>\n",
              "      <td>37.042664</td>\n",
              "      <td>806.851197</td>\n",
              "      <td>9.144641</td>\n",
              "      <td>2.899063</td>\n",
              "      <td>1.0</td>\n",
              "      <td>1006.503642</td>\n",
              "      <td>2.744017</td>\n",
              "      <td>66.167534</td>\n",
              "      <td>2.741935</td>\n",
              "      <td>1.977107</td>\n",
              "      <td>2.726327</td>\n",
              "      <td>6281.252862</td>\n",
              "      <td>14284.865765</td>\n",
              "      <td>2.733611</td>\n",
              "      <td>15.291363</td>\n",
              "      <td>3.162331</td>\n",
              "      <td>2.708637</td>\n",
              "      <td>80.0</td>\n",
              "      <td>0.804370</td>\n",
              "      <td>11.342352</td>\n",
              "      <td>2.792924</td>\n",
              "      <td>2.725286</td>\n",
              "      <td>6.864724</td>\n",
              "      <td>4.155047</td>\n",
              "      <td>2.137357</td>\n",
              "      <td>4.084287</td>\n",
              "    </tr>\n",
              "    <tr>\n",
              "      <th>std</th>\n",
              "      <td>9.178964</td>\n",
              "      <td>402.513333</td>\n",
              "      <td>8.122044</td>\n",
              "      <td>1.024293</td>\n",
              "      <td>0.0</td>\n",
              "      <td>602.681958</td>\n",
              "      <td>1.102567</td>\n",
              "      <td>20.249281</td>\n",
              "      <td>0.714435</td>\n",
              "      <td>1.152667</td>\n",
              "      <td>1.101620</td>\n",
              "      <td>4895.835087</td>\n",
              "      <td>7081.255126</td>\n",
              "      <td>2.502874</td>\n",
              "      <td>3.701129</td>\n",
              "      <td>0.368946</td>\n",
              "      <td>1.070640</td>\n",
              "      <td>0.0</td>\n",
              "      <td>0.857092</td>\n",
              "      <td>7.797326</td>\n",
              "      <td>1.314103</td>\n",
              "      <td>0.716964</td>\n",
              "      <td>6.024119</td>\n",
              "      <td>3.646045</td>\n",
              "      <td>3.200565</td>\n",
              "      <td>3.571031</td>\n",
              "    </tr>\n",
              "    <tr>\n",
              "      <th>min</th>\n",
              "      <td>18.000000</td>\n",
              "      <td>102.000000</td>\n",
              "      <td>1.000000</td>\n",
              "      <td>1.000000</td>\n",
              "      <td>1.0</td>\n",
              "      <td>2.000000</td>\n",
              "      <td>1.000000</td>\n",
              "      <td>30.000000</td>\n",
              "      <td>1.000000</td>\n",
              "      <td>1.000000</td>\n",
              "      <td>1.000000</td>\n",
              "      <td>1009.000000</td>\n",
              "      <td>2094.000000</td>\n",
              "      <td>0.000000</td>\n",
              "      <td>11.000000</td>\n",
              "      <td>3.000000</td>\n",
              "      <td>1.000000</td>\n",
              "      <td>80.0</td>\n",
              "      <td>0.000000</td>\n",
              "      <td>0.000000</td>\n",
              "      <td>0.000000</td>\n",
              "      <td>1.000000</td>\n",
              "      <td>0.000000</td>\n",
              "      <td>0.000000</td>\n",
              "      <td>0.000000</td>\n",
              "      <td>0.000000</td>\n",
              "    </tr>\n",
              "    <tr>\n",
              "      <th>25%</th>\n",
              "      <td>30.000000</td>\n",
              "      <td>469.000000</td>\n",
              "      <td>2.000000</td>\n",
              "      <td>2.000000</td>\n",
              "      <td>1.0</td>\n",
              "      <td>460.000000</td>\n",
              "      <td>2.000000</td>\n",
              "      <td>49.000000</td>\n",
              "      <td>2.000000</td>\n",
              "      <td>1.000000</td>\n",
              "      <td>2.000000</td>\n",
              "      <td>2741.000000</td>\n",
              "      <td>8007.000000</td>\n",
              "      <td>1.000000</td>\n",
              "      <td>12.000000</td>\n",
              "      <td>3.000000</td>\n",
              "      <td>2.000000</td>\n",
              "      <td>80.0</td>\n",
              "      <td>0.000000</td>\n",
              "      <td>6.000000</td>\n",
              "      <td>2.000000</td>\n",
              "      <td>2.000000</td>\n",
              "      <td>3.000000</td>\n",
              "      <td>2.000000</td>\n",
              "      <td>0.000000</td>\n",
              "      <td>2.000000</td>\n",
              "    </tr>\n",
              "    <tr>\n",
              "      <th>50%</th>\n",
              "      <td>36.000000</td>\n",
              "      <td>810.000000</td>\n",
              "      <td>7.000000</td>\n",
              "      <td>3.000000</td>\n",
              "      <td>1.0</td>\n",
              "      <td>1014.000000</td>\n",
              "      <td>3.000000</td>\n",
              "      <td>66.000000</td>\n",
              "      <td>3.000000</td>\n",
              "      <td>2.000000</td>\n",
              "      <td>3.000000</td>\n",
              "      <td>4374.000000</td>\n",
              "      <td>14242.000000</td>\n",
              "      <td>2.000000</td>\n",
              "      <td>14.000000</td>\n",
              "      <td>3.000000</td>\n",
              "      <td>3.000000</td>\n",
              "      <td>80.0</td>\n",
              "      <td>1.000000</td>\n",
              "      <td>10.000000</td>\n",
              "      <td>3.000000</td>\n",
              "      <td>3.000000</td>\n",
              "      <td>5.000000</td>\n",
              "      <td>3.000000</td>\n",
              "      <td>1.000000</td>\n",
              "      <td>3.000000</td>\n",
              "    </tr>\n",
              "    <tr>\n",
              "      <th>75%</th>\n",
              "      <td>43.000000</td>\n",
              "      <td>1153.000000</td>\n",
              "      <td>14.000000</td>\n",
              "      <td>4.000000</td>\n",
              "      <td>1.0</td>\n",
              "      <td>1539.000000</td>\n",
              "      <td>4.000000</td>\n",
              "      <td>84.000000</td>\n",
              "      <td>3.000000</td>\n",
              "      <td>3.000000</td>\n",
              "      <td>4.000000</td>\n",
              "      <td>7655.000000</td>\n",
              "      <td>20284.000000</td>\n",
              "      <td>4.000000</td>\n",
              "      <td>18.000000</td>\n",
              "      <td>3.000000</td>\n",
              "      <td>4.000000</td>\n",
              "      <td>80.0</td>\n",
              "      <td>1.000000</td>\n",
              "      <td>16.000000</td>\n",
              "      <td>3.000000</td>\n",
              "      <td>3.000000</td>\n",
              "      <td>9.000000</td>\n",
              "      <td>7.000000</td>\n",
              "      <td>2.000000</td>\n",
              "      <td>7.000000</td>\n",
              "    </tr>\n",
              "    <tr>\n",
              "      <th>max</th>\n",
              "      <td>60.000000</td>\n",
              "      <td>1496.000000</td>\n",
              "      <td>29.000000</td>\n",
              "      <td>5.000000</td>\n",
              "      <td>1.0</td>\n",
              "      <td>2068.000000</td>\n",
              "      <td>4.000000</td>\n",
              "      <td>100.000000</td>\n",
              "      <td>4.000000</td>\n",
              "      <td>5.000000</td>\n",
              "      <td>4.000000</td>\n",
              "      <td>19999.000000</td>\n",
              "      <td>26999.000000</td>\n",
              "      <td>9.000000</td>\n",
              "      <td>25.000000</td>\n",
              "      <td>4.000000</td>\n",
              "      <td>4.000000</td>\n",
              "      <td>80.0</td>\n",
              "      <td>3.000000</td>\n",
              "      <td>40.000000</td>\n",
              "      <td>6.000000</td>\n",
              "      <td>4.000000</td>\n",
              "      <td>40.000000</td>\n",
              "      <td>18.000000</td>\n",
              "      <td>15.000000</td>\n",
              "      <td>17.000000</td>\n",
              "    </tr>\n",
              "  </tbody>\n",
              "</table>\n",
              "</div>"
            ],
            "text/plain": [
              "              Age    DailyRate  ...  YearsSinceLastPromotion  YearsWithCurrManager\n",
              "count  961.000000   961.000000  ...               961.000000            961.000000\n",
              "mean    37.042664   806.851197  ...                 2.137357              4.084287\n",
              "std      9.178964   402.513333  ...                 3.200565              3.571031\n",
              "min     18.000000   102.000000  ...                 0.000000              0.000000\n",
              "25%     30.000000   469.000000  ...                 0.000000              2.000000\n",
              "50%     36.000000   810.000000  ...                 1.000000              3.000000\n",
              "75%     43.000000  1153.000000  ...                 2.000000              7.000000\n",
              "max     60.000000  1496.000000  ...                15.000000             17.000000\n",
              "\n",
              "[8 rows x 26 columns]"
            ]
          },
          "metadata": {
            "tags": []
          },
          "execution_count": 10
        }
      ]
    },
    {
      "cell_type": "markdown",
      "metadata": {
        "id": "-cyZldLyxqXb",
        "colab_type": "text"
      },
      "source": [
        "**Split Attrition**"
      ]
    },
    {
      "cell_type": "code",
      "metadata": {
        "id": "w6WHZ-5cxqsM",
        "colab_type": "code",
        "outputId": "450e5f46-73b8-4937-f67f-7481ba1dbc66",
        "colab": {
          "base_uri": "https://localhost:8080/",
          "height": 71
        }
      },
      "source": [
        "df_rd['Attrition'].value_counts()"
      ],
      "execution_count": 0,
      "outputs": [
        {
          "output_type": "execute_result",
          "data": {
            "text/plain": [
              "No     828\n",
              "Yes    133\n",
              "Name: Attrition, dtype: int64"
            ]
          },
          "metadata": {
            "tags": []
          },
          "execution_count": 11
        }
      ]
    },
    {
      "cell_type": "code",
      "metadata": {
        "id": "moIR39byxqlE",
        "colab_type": "code",
        "colab": {}
      },
      "source": [
        "yes = df_rd[df_rd['Attrition']=='Yes']\n",
        "no = df_rd[df_rd['Attrition']=='No']"
      ],
      "execution_count": 0,
      "outputs": []
    },
    {
      "cell_type": "markdown",
      "metadata": {
        "id": "XGVMXO9Nk_1x",
        "colab_type": "text"
      },
      "source": [
        "**Assessment**"
      ]
    },
    {
      "cell_type": "code",
      "metadata": {
        "id": "q_SIFy8wtD--",
        "colab_type": "code",
        "colab": {}
      },
      "source": [
        "def describe_category(df):\n",
        "  col = df.columns.values.tolist()\n",
        "  df1 = pd.DataFrame(df[col1[0]].value_counts())\n",
        "  df1 = pd.DataFrame.sort_index(df1)\n",
        "  if len(col) == 1:\n",
        "    return df1\n",
        "  else:\n",
        "    for i in range(1, len(col)):\n",
        "      df2 = pd.DataFrame(df[col1[i]].value_counts())\n",
        "      df1 = pd.merge(df1, df2, how='outer', left_index=True, right_index=True)\n",
        "    return df1"
      ],
      "execution_count": 0,
      "outputs": []
    },
    {
      "cell_type": "code",
      "metadata": {
        "id": "kcejeXth7CUI",
        "colab_type": "code",
        "colab": {}
      },
      "source": [
        "col1 = ['EnvironmentSatisfaction','JobInvolvement','JobSatisfaction','PerformanceRating','RelationshipSatisfaction']\n",
        "df_y = yes[col1]\n",
        "df_n = no[col1]\n",
        "df_t = df_rd[col1]"
      ],
      "execution_count": 0,
      "outputs": []
    },
    {
      "cell_type": "code",
      "metadata": {
        "id": "Oir4QwPguih_",
        "colab_type": "code",
        "colab": {}
      },
      "source": [
        "dy = describe_category(df_y)\n",
        "dy.PerformanceRating.fillna(0,inplace=True)\n",
        "dy = dy.to_dict('list')\n",
        "dt = describe_category(df_t)\n",
        "dt.PerformanceRating.fillna(0,inplace=True)\n",
        "dt = dt.to_dict('list')\n",
        "dn = describe_category(df_n)\n",
        "dn.PerformanceRating.fillna(0,inplace=True)\n",
        "dn = dn.to_dict('list')"
      ],
      "execution_count": 0,
      "outputs": []
    },
    {
      "cell_type": "code",
      "metadata": {
        "id": "qjsrA5aBssQ5",
        "colab_type": "code",
        "outputId": "c0ccc538-aa5b-4032-e415-17061aab33ed",
        "colab": {
          "base_uri": "https://localhost:8080/",
          "height": 213
        }
      },
      "source": [
        "describe_category(df_y)/1.33"
      ],
      "execution_count": 0,
      "outputs": [
        {
          "output_type": "execute_result",
          "data": {
            "text/html": [
              "<div>\n",
              "<style scoped>\n",
              "    .dataframe tbody tr th:only-of-type {\n",
              "        vertical-align: middle;\n",
              "    }\n",
              "\n",
              "    .dataframe tbody tr th {\n",
              "        vertical-align: top;\n",
              "    }\n",
              "\n",
              "    .dataframe thead th {\n",
              "        text-align: right;\n",
              "    }\n",
              "</style>\n",
              "<table border=\"1\" class=\"dataframe\">\n",
              "  <thead>\n",
              "    <tr style=\"text-align: right;\">\n",
              "      <th></th>\n",
              "      <th>EnvironmentSatisfaction</th>\n",
              "      <th>JobInvolvement</th>\n",
              "      <th>JobSatisfaction</th>\n",
              "      <th>PerformanceRating</th>\n",
              "      <th>RelationshipSatisfaction</th>\n",
              "    </tr>\n",
              "  </thead>\n",
              "  <tbody>\n",
              "    <tr>\n",
              "      <th>1</th>\n",
              "      <td>32.330827</td>\n",
              "      <td>9.022556</td>\n",
              "      <td>28.571429</td>\n",
              "      <td>NaN</td>\n",
              "      <td>27.819549</td>\n",
              "    </tr>\n",
              "    <tr>\n",
              "      <th>2</th>\n",
              "      <td>13.533835</td>\n",
              "      <td>30.075188</td>\n",
              "      <td>18.045113</td>\n",
              "      <td>NaN</td>\n",
              "      <td>19.548872</td>\n",
              "    </tr>\n",
              "    <tr>\n",
              "      <th>3</th>\n",
              "      <td>28.571429</td>\n",
              "      <td>57.142857</td>\n",
              "      <td>32.330827</td>\n",
              "      <td>80.451128</td>\n",
              "      <td>25.563910</td>\n",
              "    </tr>\n",
              "    <tr>\n",
              "      <th>4</th>\n",
              "      <td>25.563910</td>\n",
              "      <td>3.759398</td>\n",
              "      <td>21.052632</td>\n",
              "      <td>19.548872</td>\n",
              "      <td>27.067669</td>\n",
              "    </tr>\n",
              "  </tbody>\n",
              "</table>\n",
              "</div>"
            ],
            "text/plain": [
              "   EnvironmentSatisfaction  ...  RelationshipSatisfaction\n",
              "1                32.330827  ...                 27.819549\n",
              "2                13.533835  ...                 19.548872\n",
              "3                28.571429  ...                 25.563910\n",
              "4                25.563910  ...                 27.067669\n",
              "\n",
              "[4 rows x 5 columns]"
            ]
          },
          "metadata": {
            "tags": []
          },
          "execution_count": 18
        }
      ]
    },
    {
      "cell_type": "code",
      "metadata": {
        "id": "hk0h5fPB7CYW",
        "colab_type": "code",
        "outputId": "60704866-57ad-4269-a525-b6fb8199969f",
        "colab": {
          "base_uri": "https://localhost:8080/",
          "height": 173
        }
      },
      "source": [
        "describe_category(df_n)/8.28"
      ],
      "execution_count": 0,
      "outputs": [
        {
          "output_type": "execute_result",
          "data": {
            "text/html": [
              "<div>\n",
              "<style scoped>\n",
              "    .dataframe tbody tr th:only-of-type {\n",
              "        vertical-align: middle;\n",
              "    }\n",
              "\n",
              "    .dataframe tbody tr th {\n",
              "        vertical-align: top;\n",
              "    }\n",
              "\n",
              "    .dataframe thead th {\n",
              "        text-align: right;\n",
              "    }\n",
              "</style>\n",
              "<table border=\"1\" class=\"dataframe\">\n",
              "  <thead>\n",
              "    <tr style=\"text-align: right;\">\n",
              "      <th></th>\n",
              "      <th>EnvironmentSatisfaction</th>\n",
              "      <th>JobInvolvement</th>\n",
              "      <th>JobSatisfaction</th>\n",
              "      <th>PerformanceRating</th>\n",
              "      <th>RelationshipSatisfaction</th>\n",
              "    </tr>\n",
              "  </thead>\n",
              "  <tbody>\n",
              "    <tr>\n",
              "      <th>1</th>\n",
              "      <td>17.391304</td>\n",
              "      <td>4.710145</td>\n",
              "      <td>18.599034</td>\n",
              "      <td>NaN</td>\n",
              "      <td>16.425121</td>\n",
              "    </tr>\n",
              "    <tr>\n",
              "      <th>2</th>\n",
              "      <td>19.202899</td>\n",
              "      <td>25.120773</td>\n",
              "      <td>18.115942</td>\n",
              "      <td>NaN</td>\n",
              "      <td>22.463768</td>\n",
              "    </tr>\n",
              "    <tr>\n",
              "      <th>3</th>\n",
              "      <td>30.676329</td>\n",
              "      <td>58.454106</td>\n",
              "      <td>31.038647</td>\n",
              "      <td>84.299517</td>\n",
              "      <td>31.884058</td>\n",
              "    </tr>\n",
              "    <tr>\n",
              "      <th>4</th>\n",
              "      <td>32.729469</td>\n",
              "      <td>11.714976</td>\n",
              "      <td>32.246377</td>\n",
              "      <td>15.700483</td>\n",
              "      <td>29.227053</td>\n",
              "    </tr>\n",
              "  </tbody>\n",
              "</table>\n",
              "</div>"
            ],
            "text/plain": [
              "   EnvironmentSatisfaction  ...  RelationshipSatisfaction\n",
              "1                17.391304  ...                 16.425121\n",
              "2                19.202899  ...                 22.463768\n",
              "3                30.676329  ...                 31.884058\n",
              "4                32.729469  ...                 29.227053\n",
              "\n",
              "[4 rows x 5 columns]"
            ]
          },
          "metadata": {
            "tags": []
          },
          "execution_count": 98
        }
      ]
    },
    {
      "cell_type": "code",
      "metadata": {
        "id": "SBpibd-z0L31",
        "colab_type": "code",
        "outputId": "fb1c6976-5fac-4604-be84-201b5887c0fa",
        "colab": {
          "base_uri": "https://localhost:8080/",
          "height": 360
        }
      },
      "source": [
        "import numpy as np\n",
        "import matplotlib.pyplot as plt\n",
        "\n",
        "\n",
        "category_names = ['Low', 'Medium','High', 'Very High']\n",
        "\n",
        "\n",
        "\n",
        "def survey(results, category_names):\n",
        "    \"\"\"\n",
        "    Parameters\n",
        "    ----------\n",
        "    results : dict\n",
        "        A mapping from question labels to a list of answers per category.\n",
        "        It is assumed all lists contain the same number of entries and that\n",
        "        it matches the length of *category_names*.\n",
        "    category_names : list of str\n",
        "        The category labels.\n",
        "    \"\"\"\n",
        "    labels = list(results.keys())\n",
        "    data = np.array(list(results.values()))\n",
        "    data_cum = data.cumsum(axis=1)\n",
        "    category_colors = plt.get_cmap('RdYlGn')(\n",
        "        np.linspace(0.15, 0.85, data.shape[1]))\n",
        "\n",
        "    fig, ax = plt.subplots(figsize=(9.2, 5))\n",
        "    ax.invert_yaxis()\n",
        "    ax.xaxis.set_visible(False)\n",
        "    ax.set_xlim(0, np.sum(data, axis=1).max())\n",
        "\n",
        "    for i, (colname, color) in enumerate(zip(category_names, category_colors)):\n",
        "        widths = data[:, i]\n",
        "        starts = data_cum[:, i] - widths\n",
        "        ax.barh(labels, widths, left=starts, height=0.5,\n",
        "                label=colname, color=color)\n",
        "        xcenters = starts + widths / 2\n",
        "\n",
        "        r, g, b, _ = color\n",
        "        text_color = 'white' if r * g * b < 0.5 else 'darkgrey'\n",
        "        for y, (x, c) in enumerate(zip(xcenters, widths)):\n",
        "            ax.text(x, y, str(int(c)), ha='center', va='center',\n",
        "                    color=text_color)\n",
        "    ax.legend(ncol=len(category_names), bbox_to_anchor=(0, 1),\n",
        "              loc='lower left', fontsize='small')\n",
        "\n",
        "    return fig, ax\n",
        "\n",
        "\n",
        "survey(dy, category_names)"
      ],
      "execution_count": 0,
      "outputs": [
        {
          "output_type": "execute_result",
          "data": {
            "text/plain": [
              "(<Figure size 662.4x360 with 1 Axes>,\n",
              " <matplotlib.axes._subplots.AxesSubplot at 0x7f8b67e26ba8>)"
            ]
          },
          "metadata": {
            "tags": []
          },
          "execution_count": 70
        },
        {
          "output_type": "display_data",
          "data": {
            "image/png": "[encoded data removed]",
            "text/plain": [
              "<Figure size 662.4x360 with 1 Axes>"
            ]
          },
          "metadata": {
            "tags": []
          }
        }
      ]
    },
    {
      "cell_type": "code",
      "metadata": {
        "id": "bMRow1AKZDAu",
        "colab_type": "code",
        "outputId": "98fae745-9e4d-48e4-e963-2ee41d98ec41",
        "colab": {
          "base_uri": "https://localhost:8080/",
          "height": 360
        }
      },
      "source": [
        "survey(dn,category_names)"
      ],
      "execution_count": 0,
      "outputs": [
        {
          "output_type": "execute_result",
          "data": {
            "text/plain": [
              "(<Figure size 662.4x360 with 1 Axes>,\n",
              " <matplotlib.axes._subplots.AxesSubplot at 0x7f8b67af7860>)"
            ]
          },
          "metadata": {
            "tags": []
          },
          "execution_count": 77
        },
        {
          "output_type": "display_data",
          "data": {
            "image/png": "[encoded data removed]",
            "text/plain": [
              "<Figure size 662.4x360 with 1 Axes>"
            ]
          },
          "metadata": {
            "tags": []
          }
        }
      ]
    },
    {
      "cell_type": "code",
      "metadata": {
        "id": "0yCkRBEa0L8L",
        "colab_type": "code",
        "outputId": "a94cc4f7-e4b4-4d4a-d312-f7261e54a6e4",
        "colab": {
          "base_uri": "https://localhost:8080/",
          "height": 360
        }
      },
      "source": [
        "survey(dt, category_names)"
      ],
      "execution_count": 0,
      "outputs": [
        {
          "output_type": "execute_result",
          "data": {
            "text/plain": [
              "(<Figure size 662.4x360 with 1 Axes>,\n",
              " <matplotlib.axes._subplots.AxesSubplot at 0x7f8b6a7adfd0>)"
            ]
          },
          "metadata": {
            "tags": []
          },
          "execution_count": 75
        },
        {
          "output_type": "display_data",
          "data": {
            "image/png": "[encoded data removed]",
            "text/plain": [
              "<Figure size 662.4x360 with 1 Axes>"
            ]
          },
          "metadata": {
            "tags": []
          }
        }
      ]
    },
    {
      "cell_type": "markdown",
      "metadata": {
        "id": "8cWVXsSa0LBL",
        "colab_type": "text"
      },
      "source": [
        "**Demographic**"
      ]
    },
    {
      "cell_type": "code",
      "metadata": {
        "id": "uznJWydG7Ce2",
        "colab_type": "code",
        "outputId": "849e1fe8-2888-4b69-e9c7-ff5d9494601b",
        "colab": {
          "base_uri": "https://localhost:8080/",
          "height": 51
        }
      },
      "source": [
        "df_rd['Over18'].value_counts()"
      ],
      "execution_count": 0,
      "outputs": [
        {
          "output_type": "execute_result",
          "data": {
            "text/plain": [
              "Y    961\n",
              "Name: Over18, dtype: int64"
            ]
          },
          "metadata": {
            "tags": []
          },
          "execution_count": 12
        }
      ]
    },
    {
      "cell_type": "code",
      "metadata": {
        "id": "RA4TUdSh7Cah",
        "colab_type": "code",
        "colab": {}
      },
      "source": [
        "col2 = ['Attrition','Gender','OverTime']"
      ],
      "execution_count": 0,
      "outputs": []
    },
    {
      "cell_type": "code",
      "metadata": {
        "id": "5aPMv1XO7Cch",
        "colab_type": "code",
        "outputId": "6de01e06-80c3-4334-b2dc-74712b9db8a1",
        "colab": {
          "base_uri": "https://localhost:8080/",
          "height": 68
        }
      },
      "source": [
        "df_rd['Gender'].value_counts()\n"
      ],
      "execution_count": 0,
      "outputs": [
        {
          "output_type": "execute_result",
          "data": {
            "text/plain": [
              "Male      582\n",
              "Female    379\n",
              "Name: Gender, dtype: int64"
            ]
          },
          "metadata": {
            "tags": []
          },
          "execution_count": 26
        }
      ]
    },
    {
      "cell_type": "code",
      "metadata": {
        "id": "fo1EH7-jMOCp",
        "colab_type": "code",
        "outputId": "aaf16508-2fc1-43ae-ce3c-2984695db58a",
        "colab": {
          "base_uri": "https://localhost:8080/",
          "height": 68
        }
      },
      "source": [
        "yes['Gender'].value_counts()\n"
      ],
      "execution_count": 0,
      "outputs": [
        {
          "output_type": "execute_result",
          "data": {
            "text/plain": [
              "Male      90\n",
              "Female    43\n",
              "Name: Gender, dtype: int64"
            ]
          },
          "metadata": {
            "tags": []
          },
          "execution_count": 27
        }
      ]
    },
    {
      "cell_type": "code",
      "metadata": {
        "id": "GUid_fFWMPcW",
        "colab_type": "code",
        "outputId": "9ff7ce24-e5b4-4a8b-8104-d8999049ec8f",
        "colab": {
          "base_uri": "https://localhost:8080/",
          "height": 68
        }
      },
      "source": [
        "no['Gender'].value_counts()"
      ],
      "execution_count": 0,
      "outputs": [
        {
          "output_type": "execute_result",
          "data": {
            "text/plain": [
              "Male      492\n",
              "Female    336\n",
              "Name: Gender, dtype: int64"
            ]
          },
          "metadata": {
            "tags": []
          },
          "execution_count": 28
        }
      ]
    },
    {
      "cell_type": "code",
      "metadata": {
        "id": "0MwIa9jbO0xC",
        "colab_type": "code",
        "outputId": "8239a596-aeaa-44a0-c008-484671f9cbb5",
        "colab": {
          "base_uri": "https://localhost:8080/",
          "height": 269
        }
      },
      "source": [
        "import random\n",
        "import numpy\n",
        "from matplotlib import pyplot\n",
        "\n",
        "y = yes['Age'] \n",
        "n = no['Age']\n",
        "rd = df_rd['Age']\n",
        "\n",
        "bins = numpy.linspace(15, 65, 100)\n",
        "\n",
        "pyplot.hist(n, bins, alpha=0.5, label='no')\n",
        "pyplot.hist(y, bins, alpha=0.5, label='yes')\n",
        "pyplot.hist(rd, bins, alpha=0.5, label='R&D')\n",
        "pyplot.legend(loc='upper right')\n",
        "pyplot.show()"
      ],
      "execution_count": 0,
      "outputs": [
        {
          "output_type": "display_data",
          "data": {
            "image/png": "[encoded data removed]",
            "text/plain": [
              "<Figure size 432x288 with 1 Axes>"
            ]
          },
          "metadata": {
            "tags": []
          }
        }
      ]
    },
    {
      "cell_type": "code",
      "metadata": {
        "id": "5mwIB2nwO0zh",
        "colab_type": "code",
        "outputId": "ef5345b4-c65d-43ea-aaa3-287b397cab15",
        "colab": {
          "base_uri": "https://localhost:8080/",
          "height": 269
        }
      },
      "source": [
        "import numpy as np\n",
        "df1 = pd.DataFrame(df_rd['Education'].value_counts())\n",
        "df1 = pd.DataFrame.sort_index(df1)\n",
        "df2 = pd.DataFrame(yes['Education'].value_counts())\n",
        "df2 = pd.DataFrame.sort_index(df2)\n",
        "df3 = pd.DataFrame(no['Education'].value_counts())\n",
        "df3 = pd.DataFrame.sort_index(df3)\n",
        "y = df2['Education'] \n",
        "n = df3['Education']\n",
        "rd = df1['Education']\n",
        "\n",
        "ind = np.arange(5)\n",
        "pyplot.bar(ind, n, alpha=0.5, label='no')\n",
        "pyplot.bar(ind, y, alpha=0.5, label='yes')\n",
        "pyplot.bar(ind, rd, alpha=0.5, label='R&D')\n",
        "pyplot.legend(loc='upper right')\n",
        "pyplot.xticks(ind, ('Below College', 'College', 'Bachelor', 'Master', 'Doctor'))\n",
        "pyplot.show()"
      ],
      "execution_count": 0,
      "outputs": [
        {
          "output_type": "display_data",
          "data": {
            "image/png": "[encoded data removed]",
            "text/plain": [
              "<Figure size 432x288 with 1 Axes>"
            ]
          },
          "metadata": {
            "tags": []
          }
        }
      ]
    },
    {
      "cell_type": "code",
      "metadata": {
        "id": "xnKZlIla7CiT",
        "colab_type": "code",
        "outputId": "63c6f526-3d46-4b54-d4ab-fd664d423b9b",
        "colab": {
          "base_uri": "https://localhost:8080/",
          "height": 269
        }
      },
      "source": [
        "df1 = pd.DataFrame(df_rd['EducationField'].value_counts())\n",
        "df1 = pd.DataFrame.sort_index(df1)\n",
        "df2 = pd.DataFrame(yes['EducationField'].value_counts())\n",
        "df2 = pd.DataFrame.sort_index(df2)\n",
        "df3 = pd.DataFrame(no['EducationField'].value_counts())\n",
        "df3 = pd.DataFrame.sort_index(df3)\n",
        "y = df2['EducationField'] \n",
        "n = df3['EducationField']\n",
        "rd = df1['EducationField']\n",
        "\n",
        "ind = np.arange(4)\n",
        "pyplot.bar(ind, n, alpha=0.5, label='no')\n",
        "pyplot.bar(ind, y, alpha=0.5, label='yes')\n",
        "pyplot.bar(ind, rd, alpha=0.5, label='R&D')\n",
        "pyplot.legend(loc='upper right')\n",
        "pyplot.xticks(ind, ('Life Sciences', 'Medical', 'Other', 'Technical Degree'))\n",
        "pyplot.show()"
      ],
      "execution_count": 0,
      "outputs": [
        {
          "output_type": "display_data",
          "data": {
            "image/png": "[encoded data removed]",
            "text/plain": [
              "<Figure size 432x288 with 1 Axes>"
            ]
          },
          "metadata": {
            "tags": []
          }
        }
      ]
    },
    {
      "cell_type": "code",
      "metadata": {
        "id": "IM6_1nqr7Ck6",
        "colab_type": "code",
        "outputId": "a898dba6-0ced-4496-837b-9d4617a79995",
        "colab": {
          "base_uri": "https://localhost:8080/",
          "height": 85
        }
      },
      "source": [
        "df_rd['MaritalStatus'].value_counts()"
      ],
      "execution_count": 0,
      "outputs": [
        {
          "output_type": "execute_result",
          "data": {
            "text/plain": [
              "Married     433\n",
              "Single      304\n",
              "Divorced    224\n",
              "Name: MaritalStatus, dtype: int64"
            ]
          },
          "metadata": {
            "tags": []
          },
          "execution_count": 54
        }
      ]
    },
    {
      "cell_type": "code",
      "metadata": {
        "id": "loMGAOAzU_gE",
        "colab_type": "code",
        "outputId": "7ee20af1-aae0-4627-8da7-626dcc53bdb7",
        "colab": {
          "base_uri": "https://localhost:8080/",
          "height": 269
        }
      },
      "source": [
        "df1 = pd.DataFrame(df_rd['MaritalStatus'].value_counts())\n",
        "df1 = pd.DataFrame.sort_index(df1)\n",
        "df2 = pd.DataFrame(yes['MaritalStatus'].value_counts())\n",
        "df2 = pd.DataFrame.sort_index(df2)\n",
        "df3 = pd.DataFrame(no['MaritalStatus'].value_counts())\n",
        "df3 = pd.DataFrame.sort_index(df3)\n",
        "y = df2['MaritalStatus'] \n",
        "n = df3['MaritalStatus']\n",
        "rd = df1['MaritalStatus']\n",
        "\n",
        "ind = np.arange(3)\n",
        "pyplot.bar(ind, n, alpha=0.5, label='no')\n",
        "pyplot.bar(ind, y, alpha=0.5, label='yes')\n",
        "pyplot.bar(ind, rd, alpha=0.5, label='R&D')\n",
        "pyplot.legend(loc='upper right')\n",
        "pyplot.xticks(ind, ('Divorced', 'Married', 'Single'))\n",
        "pyplot.show()"
      ],
      "execution_count": 0,
      "outputs": [
        {
          "output_type": "display_data",
          "data": {
            "image/png": "[encoded data removed]",
            "text/plain": [
              "<Figure size 432x288 with 1 Axes>"
            ]
          },
          "metadata": {
            "tags": []
          }
        }
      ]
    },
    {
      "cell_type": "markdown",
      "metadata": {
        "id": "3uFAtUSMbhjC",
        "colab_type": "text"
      },
      "source": [
        "**Working Experience**"
      ]
    },
    {
      "cell_type": "code",
      "metadata": {
        "id": "srT0lY1zd2rZ",
        "colab_type": "code",
        "outputId": "a4a51060-6107-402a-ec39-073a7b290744",
        "colab": {
          "base_uri": "https://localhost:8080/",
          "height": 317
        }
      },
      "source": [
        "df_rd.describe()"
      ],
      "execution_count": 0,
      "outputs": [
        {
          "output_type": "execute_result",
          "data": {
            "text/html": [
              "<div>\n",
              "<style scoped>\n",
              "    .dataframe tbody tr th:only-of-type {\n",
              "        vertical-align: middle;\n",
              "    }\n",
              "\n",
              "    .dataframe tbody tr th {\n",
              "        vertical-align: top;\n",
              "    }\n",
              "\n",
              "    .dataframe thead th {\n",
              "        text-align: right;\n",
              "    }\n",
              "</style>\n",
              "<table border=\"1\" class=\"dataframe\">\n",
              "  <thead>\n",
              "    <tr style=\"text-align: right;\">\n",
              "      <th></th>\n",
              "      <th>Age</th>\n",
              "      <th>DailyRate</th>\n",
              "      <th>DistanceFromHome</th>\n",
              "      <th>Education</th>\n",
              "      <th>EmployeeCount</th>\n",
              "      <th>EmployeeNumber</th>\n",
              "      <th>EnvironmentSatisfaction</th>\n",
              "      <th>HourlyRate</th>\n",
              "      <th>JobInvolvement</th>\n",
              "      <th>JobLevel</th>\n",
              "      <th>JobSatisfaction</th>\n",
              "      <th>MonthlyIncome</th>\n",
              "      <th>MonthlyRate</th>\n",
              "      <th>NumCompaniesWorked</th>\n",
              "      <th>PercentSalaryHike</th>\n",
              "      <th>PerformanceRating</th>\n",
              "      <th>RelationshipSatisfaction</th>\n",
              "      <th>StandardHours</th>\n",
              "      <th>StockOptionLevel</th>\n",
              "      <th>TotalWorkingYears</th>\n",
              "      <th>TrainingTimesLastYear</th>\n",
              "      <th>WorkLifeBalance</th>\n",
              "      <th>YearsAtCompany</th>\n",
              "      <th>YearsInCurrentRole</th>\n",
              "      <th>YearsSinceLastPromotion</th>\n",
              "      <th>YearsWithCurrManager</th>\n",
              "    </tr>\n",
              "  </thead>\n",
              "  <tbody>\n",
              "    <tr>\n",
              "      <th>count</th>\n",
              "      <td>961.000000</td>\n",
              "      <td>961.000000</td>\n",
              "      <td>961.000000</td>\n",
              "      <td>961.000000</td>\n",
              "      <td>961.0</td>\n",
              "      <td>961.000000</td>\n",
              "      <td>961.000000</td>\n",
              "      <td>961.000000</td>\n",
              "      <td>961.000000</td>\n",
              "      <td>961.000000</td>\n",
              "      <td>961.000000</td>\n",
              "      <td>961.000000</td>\n",
              "      <td>961.000000</td>\n",
              "      <td>961.000000</td>\n",
              "      <td>961.000000</td>\n",
              "      <td>961.000000</td>\n",
              "      <td>961.000000</td>\n",
              "      <td>961.0</td>\n",
              "      <td>961.000000</td>\n",
              "      <td>961.000000</td>\n",
              "      <td>961.000000</td>\n",
              "      <td>961.000000</td>\n",
              "      <td>961.000000</td>\n",
              "      <td>961.000000</td>\n",
              "      <td>961.000000</td>\n",
              "      <td>961.000000</td>\n",
              "    </tr>\n",
              "    <tr>\n",
              "      <th>mean</th>\n",
              "      <td>37.042664</td>\n",
              "      <td>806.851197</td>\n",
              "      <td>9.144641</td>\n",
              "      <td>2.899063</td>\n",
              "      <td>1.0</td>\n",
              "      <td>1006.503642</td>\n",
              "      <td>2.744017</td>\n",
              "      <td>66.167534</td>\n",
              "      <td>2.741935</td>\n",
              "      <td>1.977107</td>\n",
              "      <td>2.726327</td>\n",
              "      <td>6281.252862</td>\n",
              "      <td>14284.865765</td>\n",
              "      <td>2.733611</td>\n",
              "      <td>15.291363</td>\n",
              "      <td>3.162331</td>\n",
              "      <td>2.708637</td>\n",
              "      <td>80.0</td>\n",
              "      <td>0.804370</td>\n",
              "      <td>11.342352</td>\n",
              "      <td>2.792924</td>\n",
              "      <td>2.725286</td>\n",
              "      <td>6.864724</td>\n",
              "      <td>4.155047</td>\n",
              "      <td>2.137357</td>\n",
              "      <td>4.084287</td>\n",
              "    </tr>\n",
              "    <tr>\n",
              "      <th>std</th>\n",
              "      <td>9.178964</td>\n",
              "      <td>402.513333</td>\n",
              "      <td>8.122044</td>\n",
              "      <td>1.024293</td>\n",
              "      <td>0.0</td>\n",
              "      <td>602.681958</td>\n",
              "      <td>1.102567</td>\n",
              "      <td>20.249281</td>\n",
              "      <td>0.714435</td>\n",
              "      <td>1.152667</td>\n",
              "      <td>1.101620</td>\n",
              "      <td>4895.835087</td>\n",
              "      <td>7081.255126</td>\n",
              "      <td>2.502874</td>\n",
              "      <td>3.701129</td>\n",
              "      <td>0.368946</td>\n",
              "      <td>1.070640</td>\n",
              "      <td>0.0</td>\n",
              "      <td>0.857092</td>\n",
              "      <td>7.797326</td>\n",
              "      <td>1.314103</td>\n",
              "      <td>0.716964</td>\n",
              "      <td>6.024119</td>\n",
              "      <td>3.646045</td>\n",
              "      <td>3.200565</td>\n",
              "      <td>3.571031</td>\n",
              "    </tr>\n",
              "    <tr>\n",
              "      <th>min</th>\n",
              "      <td>18.000000</td>\n",
              "      <td>102.000000</td>\n",
              "      <td>1.000000</td>\n",
              "      <td>1.000000</td>\n",
              "      <td>1.0</td>\n",
              "      <td>2.000000</td>\n",
              "      <td>1.000000</td>\n",
              "      <td>30.000000</td>\n",
              "      <td>1.000000</td>\n",
              "      <td>1.000000</td>\n",
              "      <td>1.000000</td>\n",
              "      <td>1009.000000</td>\n",
              "      <td>2094.000000</td>\n",
              "      <td>0.000000</td>\n",
              "      <td>11.000000</td>\n",
              "      <td>3.000000</td>\n",
              "      <td>1.000000</td>\n",
              "      <td>80.0</td>\n",
              "      <td>0.000000</td>\n",
              "      <td>0.000000</td>\n",
              "      <td>0.000000</td>\n",
              "      <td>1.000000</td>\n",
              "      <td>0.000000</td>\n",
              "      <td>0.000000</td>\n",
              "      <td>0.000000</td>\n",
              "      <td>0.000000</td>\n",
              "    </tr>\n",
              "    <tr>\n",
              "      <th>25%</th>\n",
              "      <td>30.000000</td>\n",
              "      <td>469.000000</td>\n",
              "      <td>2.000000</td>\n",
              "      <td>2.000000</td>\n",
              "      <td>1.0</td>\n",
              "      <td>460.000000</td>\n",
              "      <td>2.000000</td>\n",
              "      <td>49.000000</td>\n",
              "      <td>2.000000</td>\n",
              "      <td>1.000000</td>\n",
              "      <td>2.000000</td>\n",
              "      <td>2741.000000</td>\n",
              "      <td>8007.000000</td>\n",
              "      <td>1.000000</td>\n",
              "      <td>12.000000</td>\n",
              "      <td>3.000000</td>\n",
              "      <td>2.000000</td>\n",
              "      <td>80.0</td>\n",
              "      <td>0.000000</td>\n",
              "      <td>6.000000</td>\n",
              "      <td>2.000000</td>\n",
              "      <td>2.000000</td>\n",
              "      <td>3.000000</td>\n",
              "      <td>2.000000</td>\n",
              "      <td>0.000000</td>\n",
              "      <td>2.000000</td>\n",
              "    </tr>\n",
              "    <tr>\n",
              "      <th>50%</th>\n",
              "      <td>36.000000</td>\n",
              "      <td>810.000000</td>\n",
              "      <td>7.000000</td>\n",
              "      <td>3.000000</td>\n",
              "      <td>1.0</td>\n",
              "      <td>1014.000000</td>\n",
              "      <td>3.000000</td>\n",
              "      <td>66.000000</td>\n",
              "      <td>3.000000</td>\n",
              "      <td>2.000000</td>\n",
              "      <td>3.000000</td>\n",
              "      <td>4374.000000</td>\n",
              "      <td>14242.000000</td>\n",
              "      <td>2.000000</td>\n",
              "      <td>14.000000</td>\n",
              "      <td>3.000000</td>\n",
              "      <td>3.000000</td>\n",
              "      <td>80.0</td>\n",
              "      <td>1.000000</td>\n",
              "      <td>10.000000</td>\n",
              "      <td>3.000000</td>\n",
              "      <td>3.000000</td>\n",
              "      <td>5.000000</td>\n",
              "      <td>3.000000</td>\n",
              "      <td>1.000000</td>\n",
              "      <td>3.000000</td>\n",
              "    </tr>\n",
              "    <tr>\n",
              "      <th>75%</th>\n",
              "      <td>43.000000</td>\n",
              "      <td>1153.000000</td>\n",
              "      <td>14.000000</td>\n",
              "      <td>4.000000</td>\n",
              "      <td>1.0</td>\n",
              "      <td>1539.000000</td>\n",
              "      <td>4.000000</td>\n",
              "      <td>84.000000</td>\n",
              "      <td>3.000000</td>\n",
              "      <td>3.000000</td>\n",
              "      <td>4.000000</td>\n",
              "      <td>7655.000000</td>\n",
              "      <td>20284.000000</td>\n",
              "      <td>4.000000</td>\n",
              "      <td>18.000000</td>\n",
              "      <td>3.000000</td>\n",
              "      <td>4.000000</td>\n",
              "      <td>80.0</td>\n",
              "      <td>1.000000</td>\n",
              "      <td>16.000000</td>\n",
              "      <td>3.000000</td>\n",
              "      <td>3.000000</td>\n",
              "      <td>9.000000</td>\n",
              "      <td>7.000000</td>\n",
              "      <td>2.000000</td>\n",
              "      <td>7.000000</td>\n",
              "    </tr>\n",
              "    <tr>\n",
              "      <th>max</th>\n",
              "      <td>60.000000</td>\n",
              "      <td>1496.000000</td>\n",
              "      <td>29.000000</td>\n",
              "      <td>5.000000</td>\n",
              "      <td>1.0</td>\n",
              "      <td>2068.000000</td>\n",
              "      <td>4.000000</td>\n",
              "      <td>100.000000</td>\n",
              "      <td>4.000000</td>\n",
              "      <td>5.000000</td>\n",
              "      <td>4.000000</td>\n",
              "      <td>19999.000000</td>\n",
              "      <td>26999.000000</td>\n",
              "      <td>9.000000</td>\n",
              "      <td>25.000000</td>\n",
              "      <td>4.000000</td>\n",
              "      <td>4.000000</td>\n",
              "      <td>80.0</td>\n",
              "      <td>3.000000</td>\n",
              "      <td>40.000000</td>\n",
              "      <td>6.000000</td>\n",
              "      <td>4.000000</td>\n",
              "      <td>40.000000</td>\n",
              "      <td>18.000000</td>\n",
              "      <td>15.000000</td>\n",
              "      <td>17.000000</td>\n",
              "    </tr>\n",
              "  </tbody>\n",
              "</table>\n",
              "</div>"
            ],
            "text/plain": [
              "              Age    DailyRate  ...  YearsSinceLastPromotion  YearsWithCurrManager\n",
              "count  961.000000   961.000000  ...               961.000000            961.000000\n",
              "mean    37.042664   806.851197  ...                 2.137357              4.084287\n",
              "std      9.178964   402.513333  ...                 3.200565              3.571031\n",
              "min     18.000000   102.000000  ...                 0.000000              0.000000\n",
              "25%     30.000000   469.000000  ...                 0.000000              2.000000\n",
              "50%     36.000000   810.000000  ...                 1.000000              3.000000\n",
              "75%     43.000000  1153.000000  ...                 2.000000              7.000000\n",
              "max     60.000000  1496.000000  ...                15.000000             17.000000\n",
              "\n",
              "[8 rows x 26 columns]"
            ]
          },
          "metadata": {
            "tags": []
          },
          "execution_count": 79
        }
      ]
    },
    {
      "cell_type": "code",
      "metadata": {
        "id": "7tYldbkCd2vM",
        "colab_type": "code",
        "outputId": "a9550426-8c23-4d0b-9163-71c1d187d748",
        "colab": {
          "base_uri": "https://localhost:8080/",
          "height": 269
        }
      },
      "source": [
        "y = yes['TotalWorkingYears'] \n",
        "n = no['TotalWorkingYears']\n",
        "rd = df_rd['TotalWorkingYears']\n",
        "\n",
        "bins = numpy.linspace(0, 40, 100)\n",
        "\n",
        "pyplot.hist(n, bins, alpha=0.5, label='no')\n",
        "pyplot.hist(y, bins, alpha=0.5, label='yes')\n",
        "pyplot.hist(rd, bins, alpha=0.5, label='R&D')\n",
        "pyplot.legend(loc='upper right')\n",
        "pyplot.show()"
      ],
      "execution_count": 0,
      "outputs": [
        {
          "output_type": "display_data",
          "data": {
            "image/png": "[encoded data removed]",
            "text/plain": [
              "<Figure size 432x288 with 1 Axes>"
            ]
          },
          "metadata": {
            "tags": []
          }
        }
      ]
    },
    {
      "cell_type": "code",
      "metadata": {
        "id": "n6SICnwSV8jh",
        "colab_type": "code",
        "outputId": "c7a0c6b4-872d-41f7-f910-447c3cebd9ee",
        "colab": {
          "base_uri": "https://localhost:8080/",
          "height": 269
        }
      },
      "source": [
        "y = yes['YearsWithCurrManager'] \n",
        "n = no['YearsWithCurrManager']\n",
        "rd = df_rd['YearsWithCurrManager']\n",
        "\n",
        "bins = numpy.linspace(0, 10, 30)\n",
        "\n",
        "pyplot.hist(n, bins, alpha=0.5, label='no')\n",
        "pyplot.hist(y, bins, alpha=0.5, label='yes')\n",
        "pyplot.hist(rd, bins, alpha=0.5, label='R&D')\n",
        "pyplot.legend(loc='upper right')\n",
        "pyplot.show()"
      ],
      "execution_count": 0,
      "outputs": [
        {
          "output_type": "display_data",
          "data": {
            "image/png": "[encoded data removed]",
            "text/plain": [
              "<Figure size 432x288 with 1 Axes>"
            ]
          },
          "metadata": {
            "tags": []
          }
        }
      ]
    },
    {
      "cell_type": "markdown",
      "metadata": {
        "id": "H9LJxJMhgDFy",
        "colab_type": "text"
      },
      "source": [
        "**Working** **hour**"
      ]
    },
    {
      "cell_type": "code",
      "metadata": {
        "id": "wlcBWXYSeMuu",
        "colab_type": "code",
        "outputId": "549534cb-c5f7-48d0-bd99-d86064e57394",
        "colab": {
          "base_uri": "https://localhost:8080/",
          "height": 51
        }
      },
      "source": [
        "df_rd['StandardHours'].value_counts()"
      ],
      "execution_count": 0,
      "outputs": [
        {
          "output_type": "execute_result",
          "data": {
            "text/plain": [
              "80    961\n",
              "Name: StandardHours, dtype: int64"
            ]
          },
          "metadata": {
            "tags": []
          },
          "execution_count": 89
        }
      ]
    },
    {
      "cell_type": "code",
      "metadata": {
        "id": "Q-SVDPrQgKX8",
        "colab_type": "code",
        "outputId": "47f54324-3cc7-472c-d344-4454682ed298",
        "colab": {
          "base_uri": "https://localhost:8080/",
          "height": 68
        }
      },
      "source": [
        "df_rd['OverTime'].value_counts()"
      ],
      "execution_count": 0,
      "outputs": [
        {
          "output_type": "execute_result",
          "data": {
            "text/plain": [
              "No     690\n",
              "Yes    271\n",
              "Name: OverTime, dtype: int64"
            ]
          },
          "metadata": {
            "tags": []
          },
          "execution_count": 90
        }
      ]
    },
    {
      "cell_type": "code",
      "metadata": {
        "id": "OU1BOGg9gKc1",
        "colab_type": "code",
        "outputId": "55d290e3-2e84-4a5a-c608-2aada4923337",
        "colab": {
          "base_uri": "https://localhost:8080/",
          "height": 68
        }
      },
      "source": [
        "yes['OverTime'].value_counts()"
      ],
      "execution_count": 0,
      "outputs": [
        {
          "output_type": "execute_result",
          "data": {
            "text/plain": [
              "Yes    74\n",
              "No     59\n",
              "Name: OverTime, dtype: int64"
            ]
          },
          "metadata": {
            "tags": []
          },
          "execution_count": 91
        }
      ]
    },
    {
      "cell_type": "code",
      "metadata": {
        "id": "gTzkRBZegKjm",
        "colab_type": "code",
        "outputId": "59fd7682-7457-47ad-94d5-ffde594427b2",
        "colab": {
          "base_uri": "https://localhost:8080/",
          "height": 68
        }
      },
      "source": [
        "no['OverTime'].value_counts()"
      ],
      "execution_count": 0,
      "outputs": [
        {
          "output_type": "execute_result",
          "data": {
            "text/plain": [
              "No     631\n",
              "Yes    197\n",
              "Name: OverTime, dtype: int64"
            ]
          },
          "metadata": {
            "tags": []
          },
          "execution_count": 92
        }
      ]
    },
    {
      "cell_type": "markdown",
      "metadata": {
        "id": "8FLeuYCukzLT",
        "colab_type": "text"
      },
      "source": [
        "**Working condition**"
      ]
    },
    {
      "cell_type": "code",
      "metadata": {
        "id": "CsjN06PAgKs7",
        "colab_type": "code",
        "outputId": "8a77edcf-63e8-4160-93ce-a05e42a14456",
        "colab": {
          "base_uri": "https://localhost:8080/",
          "height": 85
        }
      },
      "source": [
        "df_rd['BusinessTravel'].value_counts()"
      ],
      "execution_count": 0,
      "outputs": [
        {
          "output_type": "execute_result",
          "data": {
            "text/plain": [
              "Travel_Rarely        682\n",
              "Travel_Frequently    182\n",
              "Non-Travel            97\n",
              "Name: BusinessTravel, dtype: int64"
            ]
          },
          "metadata": {
            "tags": []
          },
          "execution_count": 94
        }
      ]
    },
    {
      "cell_type": "code",
      "metadata": {
        "id": "YQEr8s3-gK0w",
        "colab_type": "code",
        "outputId": "a8004447-b103-4e94-f0c8-cf69c18e9eba",
        "colab": {
          "base_uri": "https://localhost:8080/",
          "height": 136
        }
      },
      "source": [
        "df_rd['JobRole'].value_counts()"
      ],
      "execution_count": 0,
      "outputs": [
        {
          "output_type": "execute_result",
          "data": {
            "text/plain": [
              "Research Scientist           292\n",
              "Laboratory Technician        259\n",
              "Manufacturing Director       145\n",
              "Healthcare Representative    131\n",
              "Research Director             80\n",
              "Manager                       54\n",
              "Name: JobRole, dtype: int64"
            ]
          },
          "metadata": {
            "tags": []
          },
          "execution_count": 95
        }
      ]
    },
    {
      "cell_type": "code",
      "metadata": {
        "id": "W3sTk5ikgKye",
        "colab_type": "code",
        "outputId": "21cd47b0-feac-4fd3-8c38-8571d8a2e1e7",
        "colab": {
          "base_uri": "https://localhost:8080/",
          "height": 269
        }
      },
      "source": [
        "y = yes['YearsSinceLastPromotion'] \n",
        "n = no['YearsSinceLastPromotion']\n",
        "rd = df_rd['YearsSinceLastPromotion']\n",
        "\n",
        "bins = numpy.linspace(0, 20, 60)\n",
        "\n",
        "pyplot.hist(n, bins, alpha=0.5, label='no')\n",
        "pyplot.hist(y, bins, alpha=0.5, label='yes')\n",
        "pyplot.hist(rd, bins, alpha=0.5, label='R&D')\n",
        "pyplot.legend(loc='upper right')\n",
        "pyplot.show()"
      ],
      "execution_count": 0,
      "outputs": [
        {
          "output_type": "display_data",
          "data": {
            "image/png": "[encoded data removed]",
            "text/plain": [
              "<Figure size 432x288 with 1 Axes>"
            ]
          },
          "metadata": {
            "tags": []
          }
        }
      ]
    },
    {
      "cell_type": "code",
      "metadata": {
        "id": "lvPx7jUUyZM0",
        "colab_type": "code",
        "outputId": "2bd7b257-a83b-452e-e199-366476bac77f",
        "colab": {
          "base_uri": "https://localhost:8080/",
          "height": 269
        }
      },
      "source": [
        "df1 = pd.DataFrame(df_rd['JobLevel'].value_counts())\n",
        "df1 = pd.DataFrame.sort_index(df1)\n",
        "df2 = pd.DataFrame(yes['JobLevel'].value_counts())\n",
        "df2 = pd.DataFrame.sort_index(df2)\n",
        "df3 = pd.DataFrame(no['JobLevel'].value_counts())\n",
        "df3 = pd.DataFrame.sort_index(df3)\n",
        "y = df2['JobLevel'] \n",
        "n = df3['JobLevel']\n",
        "rd = df1['JobLevel']\n",
        "\n",
        "ind = np.arange(5)\n",
        "pyplot.bar(ind, n, alpha=0.5, label='no')\n",
        "pyplot.bar(ind, y, alpha=0.5, label='yes')\n",
        "pyplot.bar(ind, rd, alpha=0.5, label='R&D')\n",
        "pyplot.legend(loc='upper right')\n",
        "pyplot.xticks(ind, ('1','2','3','4','5'))\n",
        "pyplot.show()"
      ],
      "execution_count": 0,
      "outputs": [
        {
          "output_type": "display_data",
          "data": {
            "image/png": "[encoded data removed]",
            "text/plain": [
              "<Figure size 432x288 with 1 Axes>"
            ]
          },
          "metadata": {
            "tags": []
          }
        }
      ]
    },
    {
      "cell_type": "code",
      "metadata": {
        "id": "W26YBi2XyZS0",
        "colab_type": "code",
        "outputId": "b6d7993f-f3d9-4aec-ec08-33e99936b605",
        "colab": {
          "base_uri": "https://localhost:8080/",
          "height": 204
        }
      },
      "source": [
        "df3"
      ],
      "execution_count": 0,
      "outputs": [
        {
          "output_type": "execute_result",
          "data": {
            "text/html": [
              "<div>\n",
              "<style scoped>\n",
              "    .dataframe tbody tr th:only-of-type {\n",
              "        vertical-align: middle;\n",
              "    }\n",
              "\n",
              "    .dataframe tbody tr th {\n",
              "        vertical-align: top;\n",
              "    }\n",
              "\n",
              "    .dataframe thead th {\n",
              "        text-align: right;\n",
              "    }\n",
              "</style>\n",
              "<table border=\"1\" class=\"dataframe\">\n",
              "  <thead>\n",
              "    <tr style=\"text-align: right;\">\n",
              "      <th></th>\n",
              "      <th>JobLevel</th>\n",
              "    </tr>\n",
              "  </thead>\n",
              "  <tbody>\n",
              "    <tr>\n",
              "      <th>1</th>\n",
              "      <td>333</td>\n",
              "    </tr>\n",
              "    <tr>\n",
              "      <th>2</th>\n",
              "      <td>266</td>\n",
              "    </tr>\n",
              "    <tr>\n",
              "      <th>3</th>\n",
              "      <td>116</td>\n",
              "    </tr>\n",
              "    <tr>\n",
              "      <th>4</th>\n",
              "      <td>67</td>\n",
              "    </tr>\n",
              "    <tr>\n",
              "      <th>5</th>\n",
              "      <td>46</td>\n",
              "    </tr>\n",
              "  </tbody>\n",
              "</table>\n",
              "</div>"
            ],
            "text/plain": [
              "   JobLevel\n",
              "1       333\n",
              "2       266\n",
              "3       116\n",
              "4        67\n",
              "5        46"
            ]
          },
          "metadata": {
            "tags": []
          },
          "execution_count": 148
        }
      ]
    },
    {
      "cell_type": "code",
      "metadata": {
        "id": "Wjt87MFQyZWV",
        "colab_type": "code",
        "colab": {}
      },
      "source": [
        ""
      ],
      "execution_count": 0,
      "outputs": []
    },
    {
      "cell_type": "code",
      "metadata": {
        "id": "DNLAiaT-yZQM",
        "colab_type": "code",
        "colab": {}
      },
      "source": [
        ""
      ],
      "execution_count": 0,
      "outputs": []
    },
    {
      "cell_type": "markdown",
      "metadata": {
        "id": "EKGG-8FtrxxI",
        "colab_type": "text"
      },
      "source": [
        "**benefits**"
      ]
    },
    {
      "cell_type": "code",
      "metadata": {
        "id": "dvwR5H_XgKwI",
        "colab_type": "code",
        "outputId": "5059d5e8-49b0-4380-e6e4-5502de00f127",
        "colab": {
          "base_uri": "https://localhost:8080/",
          "height": 102
        }
      },
      "source": [
        "df_rd['StockOptionLevel'].value_counts()"
      ],
      "execution_count": 0,
      "outputs": [
        {
          "output_type": "execute_result",
          "data": {
            "text/plain": [
              "0    407\n",
              "1    393\n",
              "2    103\n",
              "3     58\n",
              "Name: StockOptionLevel, dtype: int64"
            ]
          },
          "metadata": {
            "tags": []
          },
          "execution_count": 96
        }
      ]
    },
    {
      "cell_type": "code",
      "metadata": {
        "id": "tDiqBbAigKq0",
        "colab_type": "code",
        "outputId": "d176ebb6-8485-41ab-be39-25d76d20ea3e",
        "colab": {
          "base_uri": "https://localhost:8080/",
          "height": 269
        }
      },
      "source": [
        "df1 = pd.DataFrame(df_rd['StockOptionLevel'].value_counts())\n",
        "df1 = pd.DataFrame.sort_index(df1)\n",
        "df2 = pd.DataFrame(yes['StockOptionLevel'].value_counts())\n",
        "df2 = pd.DataFrame.sort_index(df2)\n",
        "df3 = pd.DataFrame(no['StockOptionLevel'].value_counts())\n",
        "df3 = pd.DataFrame.sort_index(df3)\n",
        "y = df2['StockOptionLevel'] \n",
        "n = df3['StockOptionLevel']\n",
        "rd = df1['StockOptionLevel']\n",
        "\n",
        "ind = np.arange(4)\n",
        "pyplot.bar(ind, n, alpha=0.5, label='no')\n",
        "pyplot.bar(ind, y, alpha=0.5, label='yes')\n",
        "pyplot.bar(ind, rd, alpha=0.5, label='R&D')\n",
        "pyplot.legend(loc='upper right')\n",
        "pyplot.xticks(ind, ('0', '1', '2','3'))\n",
        "pyplot.show()"
      ],
      "execution_count": 0,
      "outputs": [
        {
          "output_type": "display_data",
          "data": {
            "image/png": "[encoded data removed]",
            "text/plain": [
              "<Figure size 432x288 with 1 Axes>"
            ]
          },
          "metadata": {
            "tags": []
          }
        }
      ]
    },
    {
      "cell_type": "code",
      "metadata": {
        "id": "yC6YgMLGgKo0",
        "colab_type": "code",
        "outputId": "98fce929-c363-4fa5-d4bf-610596245b8e",
        "colab": {
          "base_uri": "https://localhost:8080/",
          "height": 318
        }
      },
      "source": [
        "import pandas as pd\n",
        "import matplotlib.pyplot as plt\n",
        "\n",
        "df_rd.boxplot(column=['MonthlyIncome'], by='Attrition')"
      ],
      "execution_count": 0,
      "outputs": [
        {
          "output_type": "execute_result",
          "data": {
            "text/plain": [
              "<matplotlib.axes._subplots.AxesSubplot at 0x7f8b6c2bf2e8>"
            ]
          },
          "metadata": {
            "tags": []
          },
          "execution_count": 125
        },
        {
          "output_type": "display_data",
          "data": {
            "image/png": "[encoded data removed]",
            "text/plain": [
              "<Figure size 432x288 with 1 Axes>"
            ]
          },
          "metadata": {
            "tags": []
          }
        }
      ]
    },
    {
      "cell_type": "code",
      "metadata": {
        "id": "ZemiIQ5HgKmw",
        "colab_type": "code",
        "outputId": "8f9d766b-71c9-4143-878f-5317ef30590f",
        "colab": {
          "base_uri": "https://localhost:8080/",
          "height": 1000
        }
      },
      "source": [
        "df_rd[['DailyRate', 'HourlyRate', 'MonthlyRate', 'MonthlyIncome', 'PercentSalaryHike']]"
      ],
      "execution_count": 0,
      "outputs": [
        {
          "output_type": "execute_result",
          "data": {
            "text/html": [
              "<div>\n",
              "<style scoped>\n",
              "    .dataframe tbody tr th:only-of-type {\n",
              "        vertical-align: middle;\n",
              "    }\n",
              "\n",
              "    .dataframe tbody tr th {\n",
              "        vertical-align: top;\n",
              "    }\n",
              "\n",
              "    .dataframe thead th {\n",
              "        text-align: right;\n",
              "    }\n",
              "</style>\n",
              "<table border=\"1\" class=\"dataframe\">\n",
              "  <thead>\n",
              "    <tr style=\"text-align: right;\">\n",
              "      <th></th>\n",
              "      <th>DailyRate</th>\n",
              "      <th>HourlyRate</th>\n",
              "      <th>MonthlyRate</th>\n",
              "      <th>MonthlyIncome</th>\n",
              "      <th>PercentSalaryHike</th>\n",
              "    </tr>\n",
              "  </thead>\n",
              "  <tbody>\n",
              "    <tr>\n",
              "      <th>1</th>\n",
              "      <td>279</td>\n",
              "      <td>61</td>\n",
              "      <td>24907</td>\n",
              "      <td>5130</td>\n",
              "      <td>23</td>\n",
              "    </tr>\n",
              "    <tr>\n",
              "      <th>2</th>\n",
              "      <td>1373</td>\n",
              "      <td>92</td>\n",
              "      <td>2396</td>\n",
              "      <td>2090</td>\n",
              "      <td>15</td>\n",
              "    </tr>\n",
              "    <tr>\n",
              "      <th>3</th>\n",
              "      <td>1392</td>\n",
              "      <td>56</td>\n",
              "      <td>23159</td>\n",
              "      <td>2909</td>\n",
              "      <td>11</td>\n",
              "    </tr>\n",
              "    <tr>\n",
              "      <th>4</th>\n",
              "      <td>591</td>\n",
              "      <td>40</td>\n",
              "      <td>16632</td>\n",
              "      <td>3468</td>\n",
              "      <td>12</td>\n",
              "    </tr>\n",
              "    <tr>\n",
              "      <th>5</th>\n",
              "      <td>1005</td>\n",
              "      <td>79</td>\n",
              "      <td>11864</td>\n",
              "      <td>3068</td>\n",
              "      <td>13</td>\n",
              "    </tr>\n",
              "    <tr>\n",
              "      <th>6</th>\n",
              "      <td>1324</td>\n",
              "      <td>81</td>\n",
              "      <td>9964</td>\n",
              "      <td>2670</td>\n",
              "      <td>20</td>\n",
              "    </tr>\n",
              "    <tr>\n",
              "      <th>7</th>\n",
              "      <td>1358</td>\n",
              "      <td>67</td>\n",
              "      <td>13335</td>\n",
              "      <td>2693</td>\n",
              "      <td>22</td>\n",
              "    </tr>\n",
              "    <tr>\n",
              "      <th>8</th>\n",
              "      <td>216</td>\n",
              "      <td>44</td>\n",
              "      <td>8787</td>\n",
              "      <td>9526</td>\n",
              "      <td>21</td>\n",
              "    </tr>\n",
              "    <tr>\n",
              "      <th>9</th>\n",
              "      <td>1299</td>\n",
              "      <td>94</td>\n",
              "      <td>16577</td>\n",
              "      <td>5237</td>\n",
              "      <td>13</td>\n",
              "    </tr>\n",
              "    <tr>\n",
              "      <th>10</th>\n",
              "      <td>809</td>\n",
              "      <td>84</td>\n",
              "      <td>16479</td>\n",
              "      <td>2426</td>\n",
              "      <td>13</td>\n",
              "    </tr>\n",
              "    <tr>\n",
              "      <th>11</th>\n",
              "      <td>153</td>\n",
              "      <td>49</td>\n",
              "      <td>12682</td>\n",
              "      <td>4193</td>\n",
              "      <td>12</td>\n",
              "    </tr>\n",
              "    <tr>\n",
              "      <th>12</th>\n",
              "      <td>670</td>\n",
              "      <td>31</td>\n",
              "      <td>15170</td>\n",
              "      <td>2911</td>\n",
              "      <td>17</td>\n",
              "    </tr>\n",
              "    <tr>\n",
              "      <th>13</th>\n",
              "      <td>1346</td>\n",
              "      <td>93</td>\n",
              "      <td>8758</td>\n",
              "      <td>2661</td>\n",
              "      <td>11</td>\n",
              "    </tr>\n",
              "    <tr>\n",
              "      <th>14</th>\n",
              "      <td>103</td>\n",
              "      <td>50</td>\n",
              "      <td>12947</td>\n",
              "      <td>2028</td>\n",
              "      <td>14</td>\n",
              "    </tr>\n",
              "    <tr>\n",
              "      <th>15</th>\n",
              "      <td>1389</td>\n",
              "      <td>51</td>\n",
              "      <td>10195</td>\n",
              "      <td>9980</td>\n",
              "      <td>11</td>\n",
              "    </tr>\n",
              "    <tr>\n",
              "      <th>16</th>\n",
              "      <td>334</td>\n",
              "      <td>80</td>\n",
              "      <td>15053</td>\n",
              "      <td>3298</td>\n",
              "      <td>12</td>\n",
              "    </tr>\n",
              "    <tr>\n",
              "      <th>17</th>\n",
              "      <td>1123</td>\n",
              "      <td>96</td>\n",
              "      <td>7324</td>\n",
              "      <td>2935</td>\n",
              "      <td>13</td>\n",
              "    </tr>\n",
              "    <tr>\n",
              "      <th>19</th>\n",
              "      <td>371</td>\n",
              "      <td>45</td>\n",
              "      <td>4306</td>\n",
              "      <td>3944</td>\n",
              "      <td>11</td>\n",
              "    </tr>\n",
              "    <tr>\n",
              "      <th>20</th>\n",
              "      <td>673</td>\n",
              "      <td>96</td>\n",
              "      <td>8232</td>\n",
              "      <td>4011</td>\n",
              "      <td>18</td>\n",
              "    </tr>\n",
              "    <tr>\n",
              "      <th>22</th>\n",
              "      <td>419</td>\n",
              "      <td>53</td>\n",
              "      <td>21293</td>\n",
              "      <td>11994</td>\n",
              "      <td>11</td>\n",
              "    </tr>\n",
              "    <tr>\n",
              "      <th>23</th>\n",
              "      <td>391</td>\n",
              "      <td>96</td>\n",
              "      <td>19281</td>\n",
              "      <td>1232</td>\n",
              "      <td>14</td>\n",
              "    </tr>\n",
              "    <tr>\n",
              "      <th>24</th>\n",
              "      <td>699</td>\n",
              "      <td>83</td>\n",
              "      <td>17102</td>\n",
              "      <td>2960</td>\n",
              "      <td>11</td>\n",
              "    </tr>\n",
              "    <tr>\n",
              "      <th>25</th>\n",
              "      <td>1282</td>\n",
              "      <td>58</td>\n",
              "      <td>10735</td>\n",
              "      <td>19094</td>\n",
              "      <td>11</td>\n",
              "    </tr>\n",
              "    <tr>\n",
              "      <th>26</th>\n",
              "      <td>1125</td>\n",
              "      <td>72</td>\n",
              "      <td>4681</td>\n",
              "      <td>3919</td>\n",
              "      <td>22</td>\n",
              "    </tr>\n",
              "    <tr>\n",
              "      <th>28</th>\n",
              "      <td>477</td>\n",
              "      <td>42</td>\n",
              "      <td>2094</td>\n",
              "      <td>10248</td>\n",
              "      <td>14</td>\n",
              "    </tr>\n",
              "    <tr>\n",
              "      <th>30</th>\n",
              "      <td>924</td>\n",
              "      <td>78</td>\n",
              "      <td>6670</td>\n",
              "      <td>2496</td>\n",
              "      <td>11</td>\n",
              "    </tr>\n",
              "    <tr>\n",
              "      <th>31</th>\n",
              "      <td>1459</td>\n",
              "      <td>41</td>\n",
              "      <td>19121</td>\n",
              "      <td>6465</td>\n",
              "      <td>13</td>\n",
              "    </tr>\n",
              "    <tr>\n",
              "      <th>32</th>\n",
              "      <td>125</td>\n",
              "      <td>83</td>\n",
              "      <td>16117</td>\n",
              "      <td>2206</td>\n",
              "      <td>13</td>\n",
              "    </tr>\n",
              "    <tr>\n",
              "      <th>34</th>\n",
              "      <td>813</td>\n",
              "      <td>61</td>\n",
              "      <td>3020</td>\n",
              "      <td>2293</td>\n",
              "      <td>16</td>\n",
              "    </tr>\n",
              "    <tr>\n",
              "      <th>35</th>\n",
              "      <td>1273</td>\n",
              "      <td>72</td>\n",
              "      <td>21923</td>\n",
              "      <td>2645</td>\n",
              "      <td>12</td>\n",
              "    </tr>\n",
              "    <tr>\n",
              "      <th>...</th>\n",
              "      <td>...</td>\n",
              "      <td>...</td>\n",
              "      <td>...</td>\n",
              "      <td>...</td>\n",
              "      <td>...</td>\n",
              "    </tr>\n",
              "    <tr>\n",
              "      <th>1421</th>\n",
              "      <td>1162</td>\n",
              "      <td>98</td>\n",
              "      <td>17231</td>\n",
              "      <td>11957</td>\n",
              "      <td>18</td>\n",
              "    </tr>\n",
              "    <tr>\n",
              "      <th>1422</th>\n",
              "      <td>1490</td>\n",
              "      <td>43</td>\n",
              "      <td>20232</td>\n",
              "      <td>2660</td>\n",
              "      <td>11</td>\n",
              "    </tr>\n",
              "    <tr>\n",
              "      <th>1423</th>\n",
              "      <td>581</td>\n",
              "      <td>63</td>\n",
              "      <td>17624</td>\n",
              "      <td>3375</td>\n",
              "      <td>12</td>\n",
              "    </tr>\n",
              "    <tr>\n",
              "      <th>1424</th>\n",
              "      <td>1395</td>\n",
              "      <td>48</td>\n",
              "      <td>18698</td>\n",
              "      <td>5098</td>\n",
              "      <td>19</td>\n",
              "    </tr>\n",
              "    <tr>\n",
              "      <th>1425</th>\n",
              "      <td>501</td>\n",
              "      <td>95</td>\n",
              "      <td>21653</td>\n",
              "      <td>4878</td>\n",
              "      <td>13</td>\n",
              "    </tr>\n",
              "    <tr>\n",
              "      <th>1426</th>\n",
              "      <td>267</td>\n",
              "      <td>49</td>\n",
              "      <td>15919</td>\n",
              "      <td>2837</td>\n",
              "      <td>13</td>\n",
              "    </tr>\n",
              "    <tr>\n",
              "      <th>1427</th>\n",
              "      <td>543</td>\n",
              "      <td>83</td>\n",
              "      <td>4060</td>\n",
              "      <td>2406</td>\n",
              "      <td>19</td>\n",
              "    </tr>\n",
              "    <tr>\n",
              "      <th>1429</th>\n",
              "      <td>116</td>\n",
              "      <td>52</td>\n",
              "      <td>5340</td>\n",
              "      <td>4108</td>\n",
              "      <td>13</td>\n",
              "    </tr>\n",
              "    <tr>\n",
              "      <th>1430</th>\n",
              "      <td>201</td>\n",
              "      <td>99</td>\n",
              "      <td>3376</td>\n",
              "      <td>13206</td>\n",
              "      <td>12</td>\n",
              "    </tr>\n",
              "    <tr>\n",
              "      <th>1432</th>\n",
              "      <td>161</td>\n",
              "      <td>42</td>\n",
              "      <td>15471</td>\n",
              "      <td>13744</td>\n",
              "      <td>25</td>\n",
              "    </tr>\n",
              "    <tr>\n",
              "      <th>1435</th>\n",
              "      <td>1037</td>\n",
              "      <td>42</td>\n",
              "      <td>13422</td>\n",
              "      <td>2436</td>\n",
              "      <td>12</td>\n",
              "    </tr>\n",
              "    <tr>\n",
              "      <th>1437</th>\n",
              "      <td>105</td>\n",
              "      <td>87</td>\n",
              "      <td>15302</td>\n",
              "      <td>19431</td>\n",
              "      <td>13</td>\n",
              "    </tr>\n",
              "    <tr>\n",
              "      <th>1440</th>\n",
              "      <td>688</td>\n",
              "      <td>97</td>\n",
              "      <td>9192</td>\n",
              "      <td>5131</td>\n",
              "      <td>13</td>\n",
              "    </tr>\n",
              "    <tr>\n",
              "      <th>1441</th>\n",
              "      <td>667</td>\n",
              "      <td>57</td>\n",
              "      <td>26236</td>\n",
              "      <td>6306</td>\n",
              "      <td>21</td>\n",
              "    </tr>\n",
              "    <tr>\n",
              "      <th>1442</th>\n",
              "      <td>1092</td>\n",
              "      <td>36</td>\n",
              "      <td>26124</td>\n",
              "      <td>4787</td>\n",
              "      <td>14</td>\n",
              "    </tr>\n",
              "    <tr>\n",
              "      <th>1443</th>\n",
              "      <td>300</td>\n",
              "      <td>56</td>\n",
              "      <td>17312</td>\n",
              "      <td>18880</td>\n",
              "      <td>11</td>\n",
              "    </tr>\n",
              "    <tr>\n",
              "      <th>1444</th>\n",
              "      <td>310</td>\n",
              "      <td>72</td>\n",
              "      <td>3666</td>\n",
              "      <td>2339</td>\n",
              "      <td>11</td>\n",
              "    </tr>\n",
              "    <tr>\n",
              "      <th>1445</th>\n",
              "      <td>582</td>\n",
              "      <td>60</td>\n",
              "      <td>5640</td>\n",
              "      <td>13570</td>\n",
              "      <td>23</td>\n",
              "    </tr>\n",
              "    <tr>\n",
              "      <th>1449</th>\n",
              "      <td>529</td>\n",
              "      <td>78</td>\n",
              "      <td>11288</td>\n",
              "      <td>2439</td>\n",
              "      <td>14</td>\n",
              "    </tr>\n",
              "    <tr>\n",
              "      <th>1455</th>\n",
              "      <td>1322</td>\n",
              "      <td>52</td>\n",
              "      <td>2725</td>\n",
              "      <td>2809</td>\n",
              "      <td>14</td>\n",
              "    </tr>\n",
              "    <tr>\n",
              "      <th>1456</th>\n",
              "      <td>1199</td>\n",
              "      <td>80</td>\n",
              "      <td>24594</td>\n",
              "      <td>5689</td>\n",
              "      <td>14</td>\n",
              "    </tr>\n",
              "    <tr>\n",
              "      <th>1457</th>\n",
              "      <td>1194</td>\n",
              "      <td>98</td>\n",
              "      <td>12549</td>\n",
              "      <td>2001</td>\n",
              "      <td>14</td>\n",
              "    </tr>\n",
              "    <tr>\n",
              "      <th>1458</th>\n",
              "      <td>287</td>\n",
              "      <td>62</td>\n",
              "      <td>8952</td>\n",
              "      <td>2977</td>\n",
              "      <td>12</td>\n",
              "    </tr>\n",
              "    <tr>\n",
              "      <th>1459</th>\n",
              "      <td>1378</td>\n",
              "      <td>46</td>\n",
              "      <td>23679</td>\n",
              "      <td>4025</td>\n",
              "      <td>13</td>\n",
              "    </tr>\n",
              "    <tr>\n",
              "      <th>1460</th>\n",
              "      <td>468</td>\n",
              "      <td>73</td>\n",
              "      <td>8489</td>\n",
              "      <td>3785</td>\n",
              "      <td>14</td>\n",
              "    </tr>\n",
              "    <tr>\n",
              "      <th>1463</th>\n",
              "      <td>325</td>\n",
              "      <td>74</td>\n",
              "      <td>3787</td>\n",
              "      <td>9936</td>\n",
              "      <td>19</td>\n",
              "    </tr>\n",
              "    <tr>\n",
              "      <th>1465</th>\n",
              "      <td>884</td>\n",
              "      <td>41</td>\n",
              "      <td>12290</td>\n",
              "      <td>2571</td>\n",
              "      <td>17</td>\n",
              "    </tr>\n",
              "    <tr>\n",
              "      <th>1466</th>\n",
              "      <td>613</td>\n",
              "      <td>42</td>\n",
              "      <td>21457</td>\n",
              "      <td>9991</td>\n",
              "      <td>15</td>\n",
              "    </tr>\n",
              "    <tr>\n",
              "      <th>1467</th>\n",
              "      <td>155</td>\n",
              "      <td>87</td>\n",
              "      <td>5174</td>\n",
              "      <td>6142</td>\n",
              "      <td>20</td>\n",
              "    </tr>\n",
              "    <tr>\n",
              "      <th>1469</th>\n",
              "      <td>628</td>\n",
              "      <td>82</td>\n",
              "      <td>10228</td>\n",
              "      <td>4404</td>\n",
              "      <td>12</td>\n",
              "    </tr>\n",
              "  </tbody>\n",
              "</table>\n",
              "<p>961 rows × 5 columns</p>\n",
              "</div>"
            ],
            "text/plain": [
              "      DailyRate  HourlyRate  MonthlyRate  MonthlyIncome  PercentSalaryHike\n",
              "1           279          61        24907           5130                 23\n",
              "2          1373          92         2396           2090                 15\n",
              "3          1392          56        23159           2909                 11\n",
              "4           591          40        16632           3468                 12\n",
              "5          1005          79        11864           3068                 13\n",
              "6          1324          81         9964           2670                 20\n",
              "7          1358          67        13335           2693                 22\n",
              "8           216          44         8787           9526                 21\n",
              "9          1299          94        16577           5237                 13\n",
              "10          809          84        16479           2426                 13\n",
              "11          153          49        12682           4193                 12\n",
              "12          670          31        15170           2911                 17\n",
              "13         1346          93         8758           2661                 11\n",
              "14          103          50        12947           2028                 14\n",
              "15         1389          51        10195           9980                 11\n",
              "16          334          80        15053           3298                 12\n",
              "17         1123          96         7324           2935                 13\n",
              "19          371          45         4306           3944                 11\n",
              "20          673          96         8232           4011                 18\n",
              "22          419          53        21293          11994                 11\n",
              "23          391          96        19281           1232                 14\n",
              "24          699          83        17102           2960                 11\n",
              "25         1282          58        10735          19094                 11\n",
              "26         1125          72         4681           3919                 22\n",
              "28          477          42         2094          10248                 14\n",
              "30          924          78         6670           2496                 11\n",
              "31         1459          41        19121           6465                 13\n",
              "32          125          83        16117           2206                 13\n",
              "34          813          61         3020           2293                 16\n",
              "35         1273          72        21923           2645                 12\n",
              "...         ...         ...          ...            ...                ...\n",
              "1421       1162          98        17231          11957                 18\n",
              "1422       1490          43        20232           2660                 11\n",
              "1423        581          63        17624           3375                 12\n",
              "1424       1395          48        18698           5098                 19\n",
              "1425        501          95        21653           4878                 13\n",
              "1426        267          49        15919           2837                 13\n",
              "1427        543          83         4060           2406                 19\n",
              "1429        116          52         5340           4108                 13\n",
              "1430        201          99         3376          13206                 12\n",
              "1432        161          42        15471          13744                 25\n",
              "1435       1037          42        13422           2436                 12\n",
              "1437        105          87        15302          19431                 13\n",
              "1440        688          97         9192           5131                 13\n",
              "1441        667          57        26236           6306                 21\n",
              "1442       1092          36        26124           4787                 14\n",
              "1443        300          56        17312          18880                 11\n",
              "1444        310          72         3666           2339                 11\n",
              "1445        582          60         5640          13570                 23\n",
              "1449        529          78        11288           2439                 14\n",
              "1455       1322          52         2725           2809                 14\n",
              "1456       1199          80        24594           5689                 14\n",
              "1457       1194          98        12549           2001                 14\n",
              "1458        287          62         8952           2977                 12\n",
              "1459       1378          46        23679           4025                 13\n",
              "1460        468          73         8489           3785                 14\n",
              "1463        325          74         3787           9936                 19\n",
              "1465        884          41        12290           2571                 17\n",
              "1466        613          42        21457           9991                 15\n",
              "1467        155          87         5174           6142                 20\n",
              "1469        628          82        10228           4404                 12\n",
              "\n",
              "[961 rows x 5 columns]"
            ]
          },
          "metadata": {
            "tags": []
          },
          "execution_count": 105
        }
      ]
    },
    {
      "cell_type": "code",
      "metadata": {
        "id": "nMT6S7XigKhp",
        "colab_type": "code",
        "colab": {}
      },
      "source": [
        ""
      ],
      "execution_count": 0,
      "outputs": []
    },
    {
      "cell_type": "code",
      "metadata": {
        "id": "1MBD2u4AgKfq",
        "colab_type": "code",
        "colab": {}
      },
      "source": [
        ""
      ],
      "execution_count": 0,
      "outputs": []
    },
    {
      "cell_type": "code",
      "metadata": {
        "id": "qKTHOd7bgKaw",
        "colab_type": "code",
        "colab": {}
      },
      "source": [
        ""
      ],
      "execution_count": 0,
      "outputs": []
    }
  ]
}