{
  "nbformat": 4,
  "nbformat_minor": 0,
  "metadata": {
    "colab": {
      "name": "Bokeh.ipynb",
      "provenance": []
    },
    "kernelspec": {
      "name": "python3",
      "display_name": "Python 3"
    }
  },
  "cells": [
    {
      "cell_type": "code",
      "metadata": {
        "id": "J6zrJ10bUS4r",
        "colab_type": "code",
        "outputId": "b76e3323-bb18-48a0-a3fc-235fc319d098",
        "colab": {
          "base_uri": "https://localhost:8080/",
          "height": 32
        }
      },
      "source": [
        "from google.colab import drive\n",
        "drive.mount('/content/drive')"
      ],
      "execution_count": 1,
      "outputs": [
        {
          "output_type": "stream",
          "text": [
            "Drive already mounted at /content/drive; to attempt to forcibly remount, call drive.mount(\"/content/drive\", force_remount=True).\n"
          ],
          "name": "stdout"
        }
      ]
    },
    {
      "cell_type": "markdown",
      "metadata": {
        "id": "QJx0LE6hDtKd",
        "colab_type": "text"
      },
      "source": [
        "# read data and add color column"
      ]
    },
    {
      "cell_type": "code",
      "metadata": {
        "id": "A1eKprmSDqbD",
        "colab_type": "code",
        "outputId": "6af63264-aa3e-4ca6-bc5a-ef4d9e03c5fe",
        "colab": {
          "base_uri": "https://localhost:8080/",
          "height": 32
        }
      },
      "source": [
        "cd 'drive/My Drive/visual'"
      ],
      "execution_count": 2,
      "outputs": [
        {
          "output_type": "stream",
          "text": [
            "/content/drive/My Drive/visual\n"
          ],
          "name": "stdout"
        }
      ]
    },
    {
      "cell_type": "code",
      "metadata": {
        "id": "6nR9MwVaEkdu",
        "colab_type": "code",
        "colab": {}
      },
      "source": [
        "import pandas as pd"
      ],
      "execution_count": 0,
      "outputs": []
    },
    {
      "cell_type": "code",
      "metadata": {
        "id": "BnPO_MV1UaQa",
        "colab_type": "code",
        "colab": {}
      },
      "source": [
        "data = pd.read_csv('data.csv')\n",
        "provinceArray = [\"新疆\",\"西藏\",\"内蒙古\",\"青海\",\"四川\",\"黑龙江\",\"甘肃\",\"云南\",\"广西\",\"湖南\",\"陕西\",\"广东\",\"吉林\",\"河北\",\"湖北\",\"贵州\",\"山东\",\"江西\",\"河南\",\"辽宁\",\"山西\",\"安徽\",\"福建\",\"浙江\",\"江苏\",\"重庆\",\"宁夏\",\"海南\",\"台湾\",\"北京\",\"天津\",\"上海\",\"香港\",\"澳门\"]\n",
        "ind = dict(zip(list(range(34)), provinceArray))\n",
        "data = data.rename(index = ind)"
      ],
      "execution_count": 0,
      "outputs": []
    },
    {
      "cell_type": "markdown",
      "metadata": {
        "id": "L4C0qxqqDyaF",
        "colab_type": "text"
      },
      "source": [
        "# draw a map"
      ]
    },
    {
      "cell_type": "code",
      "metadata": {
        "id": "iJq9AFYLUaEL",
        "colab_type": "code",
        "outputId": "50ea22f4-9187-4714-df40-d47fb49eb06a",
        "colab": {
          "base_uri": "https://localhost:8080/",
          "height": 32
        }
      },
      "source": [
        "cd 'bokeh'"
      ],
      "execution_count": 5,
      "outputs": [
        {
          "output_type": "stream",
          "text": [
            "/content/drive/My Drive/visual/bokeh\n"
          ],
          "name": "stdout"
        }
      ]
    },
    {
      "cell_type": "code",
      "metadata": {
        "id": "4fhcIf6QUz76",
        "colab_type": "code",
        "colab": {}
      },
      "source": [
        "class China:\n",
        "\tprovinceArray = [\"新疆\",\"西藏\",\"内蒙古\",\"青海\",\"四川\",\"黑龙江\",\"甘肃\",\"云南\",\"广西\",\"湖南\",\"陕西\",\"广东\",\"吉林\",\"河北\",\"湖北\",\"贵州\",\"山东\",\"江西\",\"河南\",\"辽宁\",\"山西\",\"安徽\",\"福建\",\"浙江\",\"江苏\",\"重庆\",\"宁夏\",\"海南\",\"台湾\",\"北京\",\"天津\",\"上海\",\"香港\",\"澳门\"]\n",
        "\tprovinceArray2Hebei = [\"新疆\",\"西藏\",\"内蒙古\",\"青海\",\"四川\",\"黑龙江\",\"甘肃\",\"云南\",\"广西\",\"湖南\",\"陕西\",\"广东\",\"吉林\",\"河北\",\"河北\",\"湖北\",\"贵州\",\"山东\",\"江西\",\"河南\",\"辽宁\",\"山西\",\"安徽\",\"福建\",\"浙江\",\"江苏\",\"重庆\",\"宁夏\",\"海南\",\"台湾\",\"北京\",\"天津\",\"上海\",\"香港\",\"澳门\"]"
      ],
      "execution_count": 0,
      "outputs": []
    },
    {
      "cell_type": "code",
      "metadata": {
        "id": "P9zTByevig4S",
        "colab_type": "code",
        "colab": {}
      },
      "source": [
        "import json\n",
        "import numpy as np\n",
        "# from china import China\n",
        "\n",
        "class ChinaMap:\n",
        "\tprovinceArray = China().provinceArray\n",
        "\n",
        "\tdef __init__(self):\n",
        "\t\tf = open(\"chinamap.json\", 'r')\n",
        "\t\tgeojson = f.read()\n",
        "\t\tself.geoinfo = json.loads(geojson)\n",
        "\n",
        "\tdef allProvinces(self):\n",
        "\t\txs = []\n",
        "\t\tys = []\n",
        "\t\tfor i in range(len(self.provinceArray)):\n",
        "\t\t\tif self.provinceArray[i] == \"河北\":\n",
        "\t\t\t\tx, y = self.hebei()\n",
        "\t\t\t\txs.extend(x)\n",
        "\t\t\t\tys.extend(y)\n",
        "\t\t\telse:\n",
        "\t\t\t\tx, y = self.province(self.provinceArray[i])\n",
        "\t\t\t\txs.append(x)\n",
        "\t\t\t\tys.append(y)\n",
        "\t\treturn xs,ys\n",
        "\n",
        "\tdef selectedProvinces(self,selectedArray):\n",
        "\t\txs = []\n",
        "\t\tys = []\n",
        "\t\tfor i in range(len(selectedArray)):\n",
        "\t\t\tif selectedArray[i] == \"河北\":\n",
        "\t\t\t\tx, y = self.hebei()\n",
        "\t\t\t\txs.extend(x)\n",
        "\t\t\t\tys.extend(y)\n",
        "\t\t\telse:\n",
        "\t\t\t\tx, y = self.province(selectedArray[i])\n",
        "\t\t\t\txs.append(x)\n",
        "\t\t\t\tys.append(y)\n",
        "\t\treturn xs,ys\n",
        "\n",
        "\tdef province(self, name):\n",
        "\t\tx = []\n",
        "\t\ty = []\n",
        "\t\tif name in self.provinceArray:\n",
        "\t\t\tindex = self.provinceArray.index(name)\n",
        "\t\t\tcoordinates = self.geoinfo[\"features\"][index][\"geometry\"][\"coordinates\"][0]\n",
        "\t\t\tfor i in range(len(coordinates)):\n",
        "\t\t\t\tx.append(coordinates[i][0])\n",
        "\t\t\t\ty.append(coordinates[i][1])\n",
        "\n",
        "\t\treturn x, y\n",
        "\n",
        "\tdef hebei(self):\n",
        "\t\txs = []\n",
        "\t\tys = []\n",
        "\t\tindex = self.provinceArray.index(\"河北\")\n",
        "\t\tfor j in range(2):\n",
        "\t\t\tx = []\n",
        "\t\t\ty = []\n",
        "\t\t\tcoordinates = self.geoinfo[\"features\"][index][\"geometry\"][\"coordinates\"][j][0]\n",
        "\t\t\tfor i in range(len(coordinates)):\n",
        "\t\t\t\tx.append(coordinates[i][0])\n",
        "\t\t\t\ty.append(coordinates[i][1])\n",
        "\t\t\txs.append(x)\n",
        "\t\t\tys.append(y)\n",
        "\t\t\n",
        "\t\treturn xs, ys"
      ],
      "execution_count": 0,
      "outputs": []
    },
    {
      "cell_type": "code",
      "metadata": {
        "id": "KWeGOyZsiguh",
        "colab_type": "code",
        "outputId": "854a9efe-562b-4340-aede-72a8a9fd3563",
        "colab": {
          "base_uri": "https://localhost:8080/",
          "height": 32
        }
      },
      "source": [
        "from bokeh.io import output_file, show\n",
        "from bokeh.models import GeoJSONDataSource\n",
        "from bokeh.plotting import figure, ColumnDataSource\n",
        "from bokeh.models import Range1d, HoverTool, CustomJS\n",
        "from bokeh.layouts import widgetbox,column,row, gridplot, layout\n",
        "from bokeh.models.widgets import Dropdown, TextInput, Button, RadioButtonGroup, Select, Slider, DataTable, DateFormatter, TableColumn\n",
        "import json\n",
        "import numpy as np\n",
        "# from china import China\n",
        "# from chinamap import ChinaMap\n",
        "from datetime import date\n",
        "from random import randint\n",
        "\n",
        "\n",
        "time = '2020-02-10'\n",
        "\n",
        "china = China()\n",
        "provinceArray = china.provinceArray\n",
        "provinceArray2Hebei = china.provinceArray2Hebei\n",
        "chinamap = ChinaMap()\n",
        "xs, ys = chinamap.allProvinces()\n",
        "\n",
        "\n",
        "def get_color_legends(row, column):\n",
        "    if data.loc[row,column]<100:\n",
        "        c = 'bisque'\n",
        "        l = '1-99'\n",
        "    elif data.loc[row,column]<500:\n",
        "        c = 'lightsalmon'\n",
        "        l = '100-499'\n",
        "    elif data.loc[row,column]<1000:\n",
        "        c = 'tomato'\n",
        "        l = '500-999'\n",
        "    elif data.loc[row,column]<10000:\n",
        "        c = 'crimson'\n",
        "        l = '1000-9999'\n",
        "    else:\n",
        "        c = 'red'\n",
        "        l = 'more than 10000'\n",
        "    return c,l\n",
        "\n",
        "legends,colors = [], []\n",
        "col = time + '_Confirmed'\n",
        "for x in range(35):\n",
        "    row = provinceArray2Hebei[x]\n",
        "    c,l = get_color_legends(row, col)\n",
        "    legends.append(l)\n",
        "    colors.append(c)\n",
        "\n",
        "source = ColumnDataSource(\n",
        "        data = dict(\n",
        "            x = xs,\n",
        "            y = ys,\n",
        "            provinces = china.provinceArray2Hebei,\n",
        "            legends = legends,\n",
        "            colors = colors\n",
        "        )\n",
        "    )\n",
        "\n",
        "hover = HoverTool(\n",
        "        tooltips=\"\"\"\n",
        "        <div>\n",
        "            <div>\n",
        "                <span style=\"font-size: 17px; font-weight: bold;\">@provinces</span>\n",
        "            </div>\n",
        "        </div>\n",
        "        \"\"\"\n",
        "    )\n",
        "\n",
        "p = figure(toolbar_location=\"below\",\n",
        "           toolbar_sticky=False,tools = [hover, \"pan\",\"wheel_zoom\",\"box_zoom\",\"reset\",\"save\"])\n",
        "p.toolbar.logo = None\n",
        "p.xgrid.grid_line_color = None\n",
        "p.ygrid.grid_line_color = None\n",
        "p.y_range = Range1d(10, 65)\n",
        "p.x_range = Range1d(70, 140)\n",
        "p.patches('x', 'y',legend='legends',color = \"colors\", source=source, alpha=0.5, line_width=2,line_color = \"white\")\n",
        "\n",
        "'''\n",
        "text_input = TextInput(value=\"default\", title=\"标题:\")\n",
        "slider = Slider(start=0, end=10, value=1, step=.1, title=\"Slider\")\n",
        "button_group = RadioButtonGroup(labels=[\"Option 1\", \"Option 2\", \"Option 3\"], active=0)\n",
        "select = Select(title=\"Option:\", value=\"foo\", options=[\"foo\", \"bar\", \"baz\", \"quux\"])\n",
        "button_1 = Button(label=\"Button 1\")\n",
        "'''\n",
        "\n",
        "callback = CustomJS(args=dict(source=source), code=\"\"\"\n",
        "        var data = source.data\n",
        "        var province = cb_obj.label\n",
        "        var index = data['provinces'].indexOf(province)\n",
        "        var results = cb_obj.value.split(\"|\")\n",
        "        var newlegend = results[0]\n",
        "        var newColor = results[1]\n",
        "        colors = data['colors']\n",
        "        colors[index] = newColor\n",
        "        legends = data['legends']\n",
        "        legends[index] = newlegend\n",
        "        if (province == '河北') {\n",
        "            colors[index+1] = newColor\n",
        "            legends[index+1] = newlegend\n",
        "        }\n",
        "        source.trigger('change')\n",
        "    \"\"\")\n",
        "\n",
        "dropdowns1 = []\n",
        "dropdowns2 = []\n",
        "dropdowns3 = []\n",
        "def get_menu(row, time):\n",
        "    menu = []\n",
        "    variable = ['CloseContact', 'Confirmed', 'Critical', 'Cured', 'Dead']\n",
        "    for item in variable:\n",
        "        col = time+'_'+item\n",
        "        menu.append(item+': '+str(data.loc[row,col]))\n",
        "        # menu.append((item,str(data.loc[row,col])))\n",
        "    return menu\n",
        "\n",
        "\n",
        "\n",
        "for i in range(0,12):\n",
        "    menu = get_menu(provinceArray[i],time)\n",
        "    dropdown = Dropdown(label=provinceArray[i], menu=menu, callback = callback)\n",
        "    dropdowns1.append(dropdown)\n",
        "for i in range(12,24):\n",
        "    menu = get_menu(provinceArray[i],time)\n",
        "    dropdown = Dropdown(label=provinceArray[i], menu=menu, callback = callback)\n",
        "    dropdowns2.append(dropdown)\n",
        "for i in range(24,34):\n",
        "    menu = get_menu(provinceArray[i],time)\n",
        "    dropdown = Dropdown(label=provinceArray[i], menu=menu, callback = callback)\n",
        "    dropdowns3.append(dropdown)\n",
        "\n",
        "'''\n",
        "data = dict(\n",
        "        provinces=provinceArray,\n",
        "        legends=legends\n",
        "    )\n",
        "tablesource = ColumnDataSource(data)\n",
        "columns = [\n",
        "        TableColumn(field=\"provinces\", title=\"Province\"),\n",
        "        TableColumn(field=\"legends\", title=\"Legend\"),\n",
        "    ]\n",
        "data_table = DataTable(source=tablesource, columns=columns, width=400, height=400)\n",
        "'''\n",
        "\n",
        "\n",
        "output_file(\"chinamap.html\", title = \"China Map\")\n",
        "l = layout([\n",
        "    [p,widgetbox(dropdowns1, width=100),widgetbox(dropdowns2, width=100),widgetbox(dropdowns3, width=100)]])\n",
        "show(l)"
      ],
      "execution_count": 8,
      "outputs": [
        {
          "output_type": "stream",
          "text": [
            "BokehDeprecationWarning: 'legend' keyword is deprecated, use explicit 'legend_label', 'legend_field', or 'legend_group' keywords instead\n"
          ],
          "name": "stderr"
        }
      ]
    }
  ]
}